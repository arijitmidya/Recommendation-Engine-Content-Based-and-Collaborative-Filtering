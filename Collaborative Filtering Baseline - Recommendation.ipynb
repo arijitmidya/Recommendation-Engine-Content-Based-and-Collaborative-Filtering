{
 "cells": [
  {
   "cell_type": "markdown",
   "id": "47c8d5f9-d60d-4732-92cb-6087f6ec4105",
   "metadata": {},
   "source": [
    "# Recommender System - Collaborative Filtering"
   ]
  },
  {
   "cell_type": "code",
   "execution_count": 1,
   "id": "4f19104f-a3df-4d15-beb4-2b14f8f2acd3",
   "metadata": {},
   "outputs": [],
   "source": [
    "# Import necessary libraries\n",
    "\n",
    "import pandas as pd\n",
    "import numpy as np\n",
    "import matplotlib.pyplot as plt\n",
    "import seaborn as sns"
   ]
  },
  {
   "cell_type": "code",
   "execution_count": 3,
   "id": "da8442f7-0a57-4fa7-adc8-8041a84d4889",
   "metadata": {},
   "outputs": [
    {
     "data": {
      "text/html": [
       "<div>\n",
       "<style scoped>\n",
       "    .dataframe tbody tr th:only-of-type {\n",
       "        vertical-align: middle;\n",
       "    }\n",
       "\n",
       "    .dataframe tbody tr th {\n",
       "        vertical-align: top;\n",
       "    }\n",
       "\n",
       "    .dataframe thead th {\n",
       "        text-align: right;\n",
       "    }\n",
       "</style>\n",
       "<table border=\"1\" class=\"dataframe\">\n",
       "  <thead>\n",
       "    <tr style=\"text-align: right;\">\n",
       "      <th></th>\n",
       "      <th>User</th>\n",
       "      <th>Fruit</th>\n",
       "      <th>Rating</th>\n",
       "    </tr>\n",
       "  </thead>\n",
       "  <tbody>\n",
       "    <tr>\n",
       "      <th>0</th>\n",
       "      <td>user0</td>\n",
       "      <td>Lemon</td>\n",
       "      <td>4.3</td>\n",
       "    </tr>\n",
       "    <tr>\n",
       "      <th>1</th>\n",
       "      <td>user1</td>\n",
       "      <td>Lemon</td>\n",
       "      <td>4.6</td>\n",
       "    </tr>\n",
       "    <tr>\n",
       "      <th>2</th>\n",
       "      <td>user2</td>\n",
       "      <td>Lemon</td>\n",
       "      <td>4.2</td>\n",
       "    </tr>\n",
       "    <tr>\n",
       "      <th>3</th>\n",
       "      <td>user3</td>\n",
       "      <td>Lemon</td>\n",
       "      <td>4.4</td>\n",
       "    </tr>\n",
       "    <tr>\n",
       "      <th>4</th>\n",
       "      <td>user4</td>\n",
       "      <td>Lemon</td>\n",
       "      <td>4.1</td>\n",
       "    </tr>\n",
       "    <tr>\n",
       "      <th>...</th>\n",
       "      <td>...</td>\n",
       "      <td>...</td>\n",
       "      <td>...</td>\n",
       "    </tr>\n",
       "    <tr>\n",
       "      <th>174</th>\n",
       "      <td>user25</td>\n",
       "      <td>Mango</td>\n",
       "      <td>4.9</td>\n",
       "    </tr>\n",
       "    <tr>\n",
       "      <th>175</th>\n",
       "      <td>user26</td>\n",
       "      <td>Mango</td>\n",
       "      <td>4.4</td>\n",
       "    </tr>\n",
       "    <tr>\n",
       "      <th>176</th>\n",
       "      <td>user27</td>\n",
       "      <td>Mango</td>\n",
       "      <td>4.3</td>\n",
       "    </tr>\n",
       "    <tr>\n",
       "      <th>177</th>\n",
       "      <td>user28</td>\n",
       "      <td>Mango</td>\n",
       "      <td>4.2</td>\n",
       "    </tr>\n",
       "    <tr>\n",
       "      <th>178</th>\n",
       "      <td>user29</td>\n",
       "      <td>Mango</td>\n",
       "      <td>4.1</td>\n",
       "    </tr>\n",
       "  </tbody>\n",
       "</table>\n",
       "<p>179 rows × 3 columns</p>\n",
       "</div>"
      ],
      "text/plain": [
       "       User  Fruit  Rating\n",
       "0     user0  Lemon     4.3\n",
       "1     user1  Lemon     4.6\n",
       "2     user2  Lemon     4.2\n",
       "3     user3  Lemon     4.4\n",
       "4     user4  Lemon     4.1\n",
       "..      ...    ...     ...\n",
       "174  user25  Mango     4.9\n",
       "175  user26  Mango     4.4\n",
       "176  user27  Mango     4.3\n",
       "177  user28  Mango     4.2\n",
       "178  user29  Mango     4.1\n",
       "\n",
       "[179 rows x 3 columns]"
      ]
     },
     "execution_count": 3,
     "metadata": {},
     "output_type": "execute_result"
    }
   ],
   "source": [
    "# Import the necessary dataset\n",
    "\n",
    "fruit_rating = pd.read_csv('C:/Users/ariji/OneDrive/Desktop/Data science & ML/Unsupervised Machine Learning/Data/fruit_ratings.csv')\n",
    "fruit_rating"
   ]
  },
  {
   "cell_type": "code",
   "execution_count": null,
   "id": "eb01041d-a610-4223-9942-8dc9497eac98",
   "metadata": {},
   "outputs": [],
   "source": [
    "### a. Data preparation - User Item Matrix"
   ]
  },
  {
   "cell_type": "code",
   "execution_count": 6,
   "id": "d78f2e4b-5725-4456-8093-c81f95fa1f70",
   "metadata": {},
   "outputs": [
    {
     "data": {
      "text/html": [
       "<div>\n",
       "<style scoped>\n",
       "    .dataframe tbody tr th:only-of-type {\n",
       "        vertical-align: middle;\n",
       "    }\n",
       "\n",
       "    .dataframe tbody tr th {\n",
       "        vertical-align: top;\n",
       "    }\n",
       "\n",
       "    .dataframe thead th {\n",
       "        text-align: right;\n",
       "    }\n",
       "</style>\n",
       "<table border=\"1\" class=\"dataframe\">\n",
       "  <thead>\n",
       "    <tr style=\"text-align: right;\">\n",
       "      <th>Fruit</th>\n",
       "      <th>Banana</th>\n",
       "      <th>Lemon</th>\n",
       "      <th>Lime</th>\n",
       "      <th>Mango</th>\n",
       "      <th>Peach</th>\n",
       "      <th>Pineapple</th>\n",
       "    </tr>\n",
       "    <tr>\n",
       "      <th>User</th>\n",
       "      <th></th>\n",
       "      <th></th>\n",
       "      <th></th>\n",
       "      <th></th>\n",
       "      <th></th>\n",
       "      <th></th>\n",
       "    </tr>\n",
       "  </thead>\n",
       "  <tbody>\n",
       "    <tr>\n",
       "      <th>user0</th>\n",
       "      <td>1.1</td>\n",
       "      <td>4.3</td>\n",
       "      <td>4.7</td>\n",
       "      <td>1.0</td>\n",
       "      <td>2.4</td>\n",
       "      <td>4.9</td>\n",
       "    </tr>\n",
       "    <tr>\n",
       "      <th>user1</th>\n",
       "      <td>1.2</td>\n",
       "      <td>4.6</td>\n",
       "      <td>4.5</td>\n",
       "      <td>1.3</td>\n",
       "      <td>2.1</td>\n",
       "      <td>4.8</td>\n",
       "    </tr>\n",
       "    <tr>\n",
       "      <th>user10</th>\n",
       "      <td>4.8</td>\n",
       "      <td>3.7</td>\n",
       "      <td>4.1</td>\n",
       "      <td>2.2</td>\n",
       "      <td>3.3</td>\n",
       "      <td>2.4</td>\n",
       "    </tr>\n",
       "    <tr>\n",
       "      <th>user11</th>\n",
       "      <td>2.5</td>\n",
       "      <td>2.9</td>\n",
       "      <td>3.7</td>\n",
       "      <td>4.1</td>\n",
       "      <td>1.8</td>\n",
       "      <td>4.1</td>\n",
       "    </tr>\n",
       "    <tr>\n",
       "      <th>user12</th>\n",
       "      <td>4.2</td>\n",
       "      <td>4.1</td>\n",
       "      <td>2.3</td>\n",
       "      <td>3.2</td>\n",
       "      <td>5.0</td>\n",
       "      <td>1.7</td>\n",
       "    </tr>\n",
       "  </tbody>\n",
       "</table>\n",
       "</div>"
      ],
      "text/plain": [
       "Fruit   Banana  Lemon  Lime  Mango  Peach  Pineapple\n",
       "User                                                \n",
       "user0      1.1    4.3   4.7    1.0    2.4        4.9\n",
       "user1      1.2    4.6   4.5    1.3    2.1        4.8\n",
       "user10     4.8    3.7   4.1    2.2    3.3        2.4\n",
       "user11     2.5    2.9   3.7    4.1    1.8        4.1\n",
       "user12     4.2    4.1   2.3    3.2    5.0        1.7"
      ]
     },
     "execution_count": 6,
     "metadata": {},
     "output_type": "execute_result"
    }
   ],
   "source": [
    "# restructure the data into a user-item matrix\n",
    "\n",
    "X = (fruit_rating.pivot(index='User' , columns='Fruit' , values='Rating'))\n",
    "X.head()"
   ]
  },
  {
   "cell_type": "code",
   "execution_count": 12,
   "id": "b733b043-f2d6-422e-b9dd-fe696746beb4",
   "metadata": {},
   "outputs": [
    {
     "data": {
      "text/html": [
       "<div>\n",
       "<style scoped>\n",
       "    .dataframe tbody tr th:only-of-type {\n",
       "        vertical-align: middle;\n",
       "    }\n",
       "\n",
       "    .dataframe tbody tr th {\n",
       "        vertical-align: top;\n",
       "    }\n",
       "\n",
       "    .dataframe thead th {\n",
       "        text-align: right;\n",
       "    }\n",
       "</style>\n",
       "<table border=\"1\" class=\"dataframe\">\n",
       "  <thead>\n",
       "    <tr style=\"text-align: right;\">\n",
       "      <th>Fruit</th>\n",
       "      <th>Banana</th>\n",
       "      <th>Lemon</th>\n",
       "      <th>Lime</th>\n",
       "      <th>Mango</th>\n",
       "      <th>Peach</th>\n",
       "      <th>Pineapple</th>\n",
       "    </tr>\n",
       "    <tr>\n",
       "      <th>User</th>\n",
       "      <th></th>\n",
       "      <th></th>\n",
       "      <th></th>\n",
       "      <th></th>\n",
       "      <th></th>\n",
       "      <th></th>\n",
       "    </tr>\n",
       "  </thead>\n",
       "  <tbody>\n",
       "    <tr>\n",
       "      <th>user19</th>\n",
       "      <td>3.5</td>\n",
       "      <td>4.8</td>\n",
       "      <td>NaN</td>\n",
       "      <td>3.1</td>\n",
       "      <td>3.4</td>\n",
       "      <td>3.2</td>\n",
       "    </tr>\n",
       "  </tbody>\n",
       "</table>\n",
       "</div>"
      ],
      "text/plain": [
       "Fruit   Banana  Lemon  Lime  Mango  Peach  Pineapple\n",
       "User                                                \n",
       "user19     3.5    4.8   NaN    3.1    3.4        3.2"
      ]
     },
     "execution_count": 12,
     "metadata": {},
     "output_type": "execute_result"
    }
   ],
   "source": [
    "# idntify NaN values\n",
    "\n",
    "X[X.isna().any(axis=1)]"
   ]
  },
  {
   "cell_type": "code",
   "execution_count": 14,
   "id": "8e9658b5-249b-467d-9141-0aae966344c4",
   "metadata": {},
   "outputs": [
    {
     "data": {
      "text/html": [
       "<div>\n",
       "<style scoped>\n",
       "    .dataframe tbody tr th:only-of-type {\n",
       "        vertical-align: middle;\n",
       "    }\n",
       "\n",
       "    .dataframe tbody tr th {\n",
       "        vertical-align: top;\n",
       "    }\n",
       "\n",
       "    .dataframe thead th {\n",
       "        text-align: right;\n",
       "    }\n",
       "</style>\n",
       "<table border=\"1\" class=\"dataframe\">\n",
       "  <thead>\n",
       "    <tr style=\"text-align: right;\">\n",
       "      <th></th>\n",
       "      <th>Rating</th>\n",
       "    </tr>\n",
       "  </thead>\n",
       "  <tbody>\n",
       "    <tr>\n",
       "      <th>count</th>\n",
       "      <td>179.000000</td>\n",
       "    </tr>\n",
       "    <tr>\n",
       "      <th>mean</th>\n",
       "      <td>3.147486</td>\n",
       "    </tr>\n",
       "    <tr>\n",
       "      <th>std</th>\n",
       "      <td>1.465610</td>\n",
       "    </tr>\n",
       "    <tr>\n",
       "      <th>min</th>\n",
       "      <td>1.000000</td>\n",
       "    </tr>\n",
       "    <tr>\n",
       "      <th>25%</th>\n",
       "      <td>1.650000</td>\n",
       "    </tr>\n",
       "    <tr>\n",
       "      <th>50%</th>\n",
       "      <td>3.400000</td>\n",
       "    </tr>\n",
       "    <tr>\n",
       "      <th>75%</th>\n",
       "      <td>4.600000</td>\n",
       "    </tr>\n",
       "    <tr>\n",
       "      <th>max</th>\n",
       "      <td>5.000000</td>\n",
       "    </tr>\n",
       "  </tbody>\n",
       "</table>\n",
       "</div>"
      ],
      "text/plain": [
       "           Rating\n",
       "count  179.000000\n",
       "mean     3.147486\n",
       "std      1.465610\n",
       "min      1.000000\n",
       "25%      1.650000\n",
       "50%      3.400000\n",
       "75%      4.600000\n",
       "max      5.000000"
      ]
     },
     "execution_count": 14,
     "metadata": {},
     "output_type": "execute_result"
    }
   ],
   "source": [
    "# ratings range\n",
    "\n",
    "fruit_rating.describe()"
   ]
  },
  {
   "cell_type": "code",
   "execution_count": 15,
   "id": "446ded33-b0bd-45f4-adc2-78847ae18a16",
   "metadata": {},
   "outputs": [
    {
     "data": {
      "text/plain": [
       "count    29.000000\n",
       "mean      2.937931\n",
       "std       1.636724\n",
       "min       1.000000\n",
       "25%       1.200000\n",
       "50%       3.100000\n",
       "75%       4.600000\n",
       "max       4.900000\n",
       "Name: Lime, dtype: float64"
      ]
     },
     "execution_count": 15,
     "metadata": {},
     "output_type": "execute_result"
    }
   ],
   "source": [
    "# range of Lime rating\n",
    "\n",
    "X.Lime.describe()"
   ]
  },
  {
   "cell_type": "code",
   "execution_count": 17,
   "id": "d9b44b44-79bc-4566-a10d-ccfa6bbba2f9",
   "metadata": {},
   "outputs": [
    {
     "data": {
      "text/html": [
       "<div>\n",
       "<style scoped>\n",
       "    .dataframe tbody tr th:only-of-type {\n",
       "        vertical-align: middle;\n",
       "    }\n",
       "\n",
       "    .dataframe tbody tr th {\n",
       "        vertical-align: top;\n",
       "    }\n",
       "\n",
       "    .dataframe thead th {\n",
       "        text-align: right;\n",
       "    }\n",
       "</style>\n",
       "<table border=\"1\" class=\"dataframe\">\n",
       "  <thead>\n",
       "    <tr style=\"text-align: right;\">\n",
       "      <th>Fruit</th>\n",
       "      <th>Banana</th>\n",
       "      <th>Lemon</th>\n",
       "      <th>Lime</th>\n",
       "      <th>Mango</th>\n",
       "      <th>Peach</th>\n",
       "      <th>Pineapple</th>\n",
       "    </tr>\n",
       "    <tr>\n",
       "      <th>User</th>\n",
       "      <th></th>\n",
       "      <th></th>\n",
       "      <th></th>\n",
       "      <th></th>\n",
       "      <th></th>\n",
       "      <th></th>\n",
       "    </tr>\n",
       "  </thead>\n",
       "  <tbody>\n",
       "    <tr>\n",
       "      <th>user0</th>\n",
       "      <td>1.1</td>\n",
       "      <td>4.3</td>\n",
       "      <td>4.7</td>\n",
       "      <td>1.0</td>\n",
       "      <td>2.4</td>\n",
       "      <td>4.9</td>\n",
       "    </tr>\n",
       "    <tr>\n",
       "      <th>user1</th>\n",
       "      <td>1.2</td>\n",
       "      <td>4.6</td>\n",
       "      <td>4.5</td>\n",
       "      <td>1.3</td>\n",
       "      <td>2.1</td>\n",
       "      <td>4.8</td>\n",
       "    </tr>\n",
       "    <tr>\n",
       "      <th>user10</th>\n",
       "      <td>4.8</td>\n",
       "      <td>3.7</td>\n",
       "      <td>4.1</td>\n",
       "      <td>2.2</td>\n",
       "      <td>3.3</td>\n",
       "      <td>2.4</td>\n",
       "    </tr>\n",
       "    <tr>\n",
       "      <th>user11</th>\n",
       "      <td>2.5</td>\n",
       "      <td>2.9</td>\n",
       "      <td>3.7</td>\n",
       "      <td>4.1</td>\n",
       "      <td>1.8</td>\n",
       "      <td>4.1</td>\n",
       "    </tr>\n",
       "    <tr>\n",
       "      <th>user12</th>\n",
       "      <td>4.2</td>\n",
       "      <td>4.1</td>\n",
       "      <td>2.3</td>\n",
       "      <td>3.2</td>\n",
       "      <td>5.0</td>\n",
       "      <td>1.7</td>\n",
       "    </tr>\n",
       "  </tbody>\n",
       "</table>\n",
       "</div>"
      ],
      "text/plain": [
       "Fruit   Banana  Lemon  Lime  Mango  Peach  Pineapple\n",
       "User                                                \n",
       "user0      1.1    4.3   4.7    1.0    2.4        4.9\n",
       "user1      1.2    4.6   4.5    1.3    2.1        4.8\n",
       "user10     4.8    3.7   4.1    2.2    3.3        2.4\n",
       "user11     2.5    2.9   3.7    4.1    1.8        4.1\n",
       "user12     4.2    4.1   2.3    3.2    5.0        1.7"
      ]
     },
     "execution_count": 17,
     "metadata": {},
     "output_type": "execute_result"
    }
   ],
   "source": [
    "# updated user-item matrix with nan values as numeric values\n",
    "X = (fruit_rating.pivot(index='User', columns='Fruit', values='Rating').fillna(3))\n",
    "X.head()"
   ]
  },
  {
   "cell_type": "markdown",
   "id": "d15ae3b6-1bdd-47c2-bc09-b20eaa121923",
   "metadata": {},
   "source": [
    "### b. Modelling truncated SVD"
   ]
  },
  {
   "cell_type": "code",
   "execution_count": 18,
   "id": "c3716102-e97d-4781-a9ba-13aec8f51b30",
   "metadata": {},
   "outputs": [],
   "source": [
    "# import truncated svd from sklearn\n",
    "from sklearn.decomposition import TruncatedSVD"
   ]
  },
  {
   "cell_type": "code",
   "execution_count": 19,
   "id": "ec5b972e-9a59-444f-9233-43bb689615d8",
   "metadata": {},
   "outputs": [
    {
     "data": {
      "text/html": [
       "<style>#sk-container-id-1 {color: black;background-color: white;}#sk-container-id-1 pre{padding: 0;}#sk-container-id-1 div.sk-toggleable {background-color: white;}#sk-container-id-1 label.sk-toggleable__label {cursor: pointer;display: block;width: 100%;margin-bottom: 0;padding: 0.3em;box-sizing: border-box;text-align: center;}#sk-container-id-1 label.sk-toggleable__label-arrow:before {content: \"▸\";float: left;margin-right: 0.25em;color: #696969;}#sk-container-id-1 label.sk-toggleable__label-arrow:hover:before {color: black;}#sk-container-id-1 div.sk-estimator:hover label.sk-toggleable__label-arrow:before {color: black;}#sk-container-id-1 div.sk-toggleable__content {max-height: 0;max-width: 0;overflow: hidden;text-align: left;background-color: #f0f8ff;}#sk-container-id-1 div.sk-toggleable__content pre {margin: 0.2em;color: black;border-radius: 0.25em;background-color: #f0f8ff;}#sk-container-id-1 input.sk-toggleable__control:checked~div.sk-toggleable__content {max-height: 200px;max-width: 100%;overflow: auto;}#sk-container-id-1 input.sk-toggleable__control:checked~label.sk-toggleable__label-arrow:before {content: \"▾\";}#sk-container-id-1 div.sk-estimator input.sk-toggleable__control:checked~label.sk-toggleable__label {background-color: #d4ebff;}#sk-container-id-1 div.sk-label input.sk-toggleable__control:checked~label.sk-toggleable__label {background-color: #d4ebff;}#sk-container-id-1 input.sk-hidden--visually {border: 0;clip: rect(1px 1px 1px 1px);clip: rect(1px, 1px, 1px, 1px);height: 1px;margin: -1px;overflow: hidden;padding: 0;position: absolute;width: 1px;}#sk-container-id-1 div.sk-estimator {font-family: monospace;background-color: #f0f8ff;border: 1px dotted black;border-radius: 0.25em;box-sizing: border-box;margin-bottom: 0.5em;}#sk-container-id-1 div.sk-estimator:hover {background-color: #d4ebff;}#sk-container-id-1 div.sk-parallel-item::after {content: \"\";width: 100%;border-bottom: 1px solid gray;flex-grow: 1;}#sk-container-id-1 div.sk-label:hover label.sk-toggleable__label {background-color: #d4ebff;}#sk-container-id-1 div.sk-serial::before {content: \"\";position: absolute;border-left: 1px solid gray;box-sizing: border-box;top: 0;bottom: 0;left: 50%;z-index: 0;}#sk-container-id-1 div.sk-serial {display: flex;flex-direction: column;align-items: center;background-color: white;padding-right: 0.2em;padding-left: 0.2em;position: relative;}#sk-container-id-1 div.sk-item {position: relative;z-index: 1;}#sk-container-id-1 div.sk-parallel {display: flex;align-items: stretch;justify-content: center;background-color: white;position: relative;}#sk-container-id-1 div.sk-item::before, #sk-container-id-1 div.sk-parallel-item::before {content: \"\";position: absolute;border-left: 1px solid gray;box-sizing: border-box;top: 0;bottom: 0;left: 50%;z-index: -1;}#sk-container-id-1 div.sk-parallel-item {display: flex;flex-direction: column;z-index: 1;position: relative;background-color: white;}#sk-container-id-1 div.sk-parallel-item:first-child::after {align-self: flex-end;width: 50%;}#sk-container-id-1 div.sk-parallel-item:last-child::after {align-self: flex-start;width: 50%;}#sk-container-id-1 div.sk-parallel-item:only-child::after {width: 0;}#sk-container-id-1 div.sk-dashed-wrapped {border: 1px dashed gray;margin: 0 0.4em 0.5em 0.4em;box-sizing: border-box;padding-bottom: 0.4em;background-color: white;}#sk-container-id-1 div.sk-label label {font-family: monospace;font-weight: bold;display: inline-block;line-height: 1.2em;}#sk-container-id-1 div.sk-label-container {text-align: center;}#sk-container-id-1 div.sk-container {/* jupyter's `normalize.less` sets `[hidden] { display: none; }` but bootstrap.min.css set `[hidden] { display: none !important; }` so we also need the `!important` here to be able to override the default hidden behavior on the sphinx rendered scikit-learn.org. See: https://github.com/scikit-learn/scikit-learn/issues/21755 */display: inline-block !important;position: relative;}#sk-container-id-1 div.sk-text-repr-fallback {display: none;}</style><div id=\"sk-container-id-1\" class=\"sk-top-container\"><div class=\"sk-text-repr-fallback\"><pre>TruncatedSVD()</pre><b>In a Jupyter environment, please rerun this cell to show the HTML representation or trust the notebook. <br />On GitHub, the HTML representation is unable to render, please try loading this page with nbviewer.org.</b></div><div class=\"sk-container\" hidden><div class=\"sk-item\"><div class=\"sk-estimator sk-toggleable\"><input class=\"sk-toggleable__control sk-hidden--visually\" id=\"sk-estimator-id-1\" type=\"checkbox\" checked><label for=\"sk-estimator-id-1\" class=\"sk-toggleable__label sk-toggleable__label-arrow\">TruncatedSVD</label><div class=\"sk-toggleable__content\"><pre>TruncatedSVD()</pre></div></div></div></div></div>"
      ],
      "text/plain": [
       "TruncatedSVD()"
      ]
     },
     "execution_count": 19,
     "metadata": {},
     "output_type": "execute_result"
    }
   ],
   "source": [
    "# apply SVD to the ratings\n",
    "\n",
    "svd = TruncatedSVD(n_components=2)\n",
    "svd.fit(X)"
   ]
  },
  {
   "cell_type": "code",
   "execution_count": 20,
   "id": "642951a7-e9d7-426d-8175-412c6524cce4",
   "metadata": {},
   "outputs": [
    {
     "data": {
      "text/html": [
       "<div>\n",
       "<style scoped>\n",
       "    .dataframe tbody tr th:only-of-type {\n",
       "        vertical-align: middle;\n",
       "    }\n",
       "\n",
       "    .dataframe tbody tr th {\n",
       "        vertical-align: top;\n",
       "    }\n",
       "\n",
       "    .dataframe thead th {\n",
       "        text-align: right;\n",
       "    }\n",
       "</style>\n",
       "<table border=\"1\" class=\"dataframe\">\n",
       "  <thead>\n",
       "    <tr style=\"text-align: right;\">\n",
       "      <th></th>\n",
       "      <th>0</th>\n",
       "      <th>1</th>\n",
       "    </tr>\n",
       "    <tr>\n",
       "      <th>User</th>\n",
       "      <th></th>\n",
       "      <th></th>\n",
       "    </tr>\n",
       "  </thead>\n",
       "  <tbody>\n",
       "    <tr>\n",
       "      <th>user0</th>\n",
       "      <td>7.473496</td>\n",
       "      <td>4.062791</td>\n",
       "    </tr>\n",
       "    <tr>\n",
       "      <th>user1</th>\n",
       "      <td>7.491190</td>\n",
       "      <td>3.972463</td>\n",
       "    </tr>\n",
       "    <tr>\n",
       "      <th>user10</th>\n",
       "      <td>8.330967</td>\n",
       "      <td>0.158395</td>\n",
       "    </tr>\n",
       "    <tr>\n",
       "      <th>user11</th>\n",
       "      <td>7.725274</td>\n",
       "      <td>0.926172</td>\n",
       "    </tr>\n",
       "    <tr>\n",
       "      <th>user12</th>\n",
       "      <td>8.366775</td>\n",
       "      <td>-1.396251</td>\n",
       "    </tr>\n",
       "  </tbody>\n",
       "</table>\n",
       "</div>"
      ],
      "text/plain": [
       "               0         1\n",
       "User                      \n",
       "user0   7.473496  4.062791\n",
       "user1   7.491190  3.972463\n",
       "user10  8.330967  0.158395\n",
       "user11  7.725274  0.926172\n",
       "user12  8.366775 -1.396251"
      ]
     },
     "execution_count": 20,
     "metadata": {},
     "output_type": "execute_result"
    }
   ],
   "source": [
    "# view the U matrix\n",
    "U = svd.transform(X)\n",
    "\n",
    "# alternative\n",
    "U = svd.fit_transform(X)\n",
    "\n",
    "U_df = pd.DataFrame(U, index=X.index)\n",
    "U_df.head()"
   ]
  },
  {
   "cell_type": "code",
   "execution_count": 21,
   "id": "15050180-3d4e-4e3a-a477-b531d02ced33",
   "metadata": {},
   "outputs": [
    {
     "data": {
      "text/plain": [
       "(30, 2)"
      ]
     },
     "execution_count": 21,
     "metadata": {},
     "output_type": "execute_result"
    }
   ],
   "source": [
    "# view the shape of the U matrix (users x latent features)\n",
    "U_df.shape"
   ]
  },
  {
   "cell_type": "code",
   "execution_count": 23,
   "id": "e581fc9f-2b66-44b6-b117-e449aea1923b",
   "metadata": {},
   "outputs": [
    {
     "data": {
      "text/plain": [
       "array([42.3738503, 17.6542247])"
      ]
     },
     "execution_count": 23,
     "metadata": {},
     "output_type": "execute_result"
    }
   ],
   "source": [
    "# view the sigma matrix\n",
    "\n",
    "sigma = svd.singular_values_\n",
    "sigma"
   ]
  },
  {
   "cell_type": "code",
   "execution_count": 26,
   "id": "cc48bac6-f8a6-4974-b42a-33a459b32757",
   "metadata": {},
   "outputs": [],
   "source": [
    "# show each row of the array on one line\n",
    "import numpy as np\n",
    "\n",
    "# set linewidth to a large value to prevent wrapping\n",
    "np.set_printoptions(linewidth=np.inf)"
   ]
  },
  {
   "cell_type": "code",
   "execution_count": 29,
   "id": "72cea424-aa32-4336-b8f4-69859ee5630d",
   "metadata": {},
   "outputs": [
    {
     "data": {
      "text/html": [
       "<div>\n",
       "<style scoped>\n",
       "    .dataframe tbody tr th:only-of-type {\n",
       "        vertical-align: middle;\n",
       "    }\n",
       "\n",
       "    .dataframe tbody tr th {\n",
       "        vertical-align: top;\n",
       "    }\n",
       "\n",
       "    .dataframe thead th {\n",
       "        text-align: right;\n",
       "    }\n",
       "</style>\n",
       "<table border=\"1\" class=\"dataframe\">\n",
       "  <thead>\n",
       "    <tr style=\"text-align: right;\">\n",
       "      <th>Fruit</th>\n",
       "      <th>Banana</th>\n",
       "      <th>Lemon</th>\n",
       "      <th>Lime</th>\n",
       "      <th>Mango</th>\n",
       "      <th>Peach</th>\n",
       "      <th>Pineapple</th>\n",
       "    </tr>\n",
       "  </thead>\n",
       "  <tbody>\n",
       "    <tr>\n",
       "      <th>0</th>\n",
       "      <td>0.422823</td>\n",
       "      <td>0.376398</td>\n",
       "      <td>0.378344</td>\n",
       "      <td>0.381959</td>\n",
       "      <td>0.44026</td>\n",
       "      <td>0.443486</td>\n",
       "    </tr>\n",
       "    <tr>\n",
       "      <th>1</th>\n",
       "      <td>-0.468373</td>\n",
       "      <td>0.419367</td>\n",
       "      <td>0.467655</td>\n",
       "      <td>-0.426644</td>\n",
       "      <td>-0.28962</td>\n",
       "      <td>0.346628</td>\n",
       "    </tr>\n",
       "  </tbody>\n",
       "</table>\n",
       "</div>"
      ],
      "text/plain": [
       "Fruit    Banana     Lemon      Lime     Mango    Peach  Pineapple\n",
       "0      0.422823  0.376398  0.378344  0.381959  0.44026   0.443486\n",
       "1     -0.468373  0.419367  0.467655 -0.426644 -0.28962   0.346628"
      ]
     },
     "execution_count": 29,
     "metadata": {},
     "output_type": "execute_result"
    }
   ],
   "source": [
    "# view the VT matrix\n",
    "\n",
    "VT = svd.components_\n",
    "\n",
    "VT_df = pd.DataFrame(VT , columns=X.columns)\n",
    "VT_df"
   ]
  },
  {
   "cell_type": "code",
   "execution_count": 30,
   "id": "560e7b63-782d-40cc-a620-886f6c113cd8",
   "metadata": {},
   "outputs": [
    {
     "data": {
      "text/plain": [
       "(2, 6)"
      ]
     },
     "execution_count": 30,
     "metadata": {},
     "output_type": "execute_result"
    }
   ],
   "source": [
    "# view the shape of the VT_df matrix\n",
    "\n",
    "VT_df.shape"
   ]
  },
  {
   "cell_type": "markdown",
   "id": "dae13170-8267-47cf-ae4f-d03918b63f76",
   "metadata": {},
   "source": [
    "### c. Tuning - Choosing the number of components"
   ]
  },
  {
   "cell_type": "code",
   "execution_count": 31,
   "id": "32897084-1733-41ec-b29f-8ef2627ba470",
   "metadata": {},
   "outputs": [
    {
     "data": {
      "text/html": [
       "<div>\n",
       "<style scoped>\n",
       "    .dataframe tbody tr th:only-of-type {\n",
       "        vertical-align: middle;\n",
       "    }\n",
       "\n",
       "    .dataframe tbody tr th {\n",
       "        vertical-align: top;\n",
       "    }\n",
       "\n",
       "    .dataframe thead th {\n",
       "        text-align: right;\n",
       "    }\n",
       "</style>\n",
       "<table border=\"1\" class=\"dataframe\">\n",
       "  <thead>\n",
       "    <tr style=\"text-align: right;\">\n",
       "      <th>Fruit</th>\n",
       "      <th>Banana</th>\n",
       "      <th>Lemon</th>\n",
       "      <th>Lime</th>\n",
       "      <th>Mango</th>\n",
       "      <th>Peach</th>\n",
       "      <th>Pineapple</th>\n",
       "    </tr>\n",
       "    <tr>\n",
       "      <th>User</th>\n",
       "      <th></th>\n",
       "      <th></th>\n",
       "      <th></th>\n",
       "      <th></th>\n",
       "      <th></th>\n",
       "      <th></th>\n",
       "    </tr>\n",
       "  </thead>\n",
       "  <tbody>\n",
       "    <tr>\n",
       "      <th>user0</th>\n",
       "      <td>1.1</td>\n",
       "      <td>4.3</td>\n",
       "      <td>4.7</td>\n",
       "      <td>1.0</td>\n",
       "      <td>2.4</td>\n",
       "      <td>4.9</td>\n",
       "    </tr>\n",
       "    <tr>\n",
       "      <th>user1</th>\n",
       "      <td>1.2</td>\n",
       "      <td>4.6</td>\n",
       "      <td>4.5</td>\n",
       "      <td>1.3</td>\n",
       "      <td>2.1</td>\n",
       "      <td>4.8</td>\n",
       "    </tr>\n",
       "    <tr>\n",
       "      <th>user10</th>\n",
       "      <td>4.8</td>\n",
       "      <td>3.7</td>\n",
       "      <td>4.1</td>\n",
       "      <td>2.2</td>\n",
       "      <td>3.3</td>\n",
       "      <td>2.4</td>\n",
       "    </tr>\n",
       "    <tr>\n",
       "      <th>user11</th>\n",
       "      <td>2.5</td>\n",
       "      <td>2.9</td>\n",
       "      <td>3.7</td>\n",
       "      <td>4.1</td>\n",
       "      <td>1.8</td>\n",
       "      <td>4.1</td>\n",
       "    </tr>\n",
       "    <tr>\n",
       "      <th>user12</th>\n",
       "      <td>4.2</td>\n",
       "      <td>4.1</td>\n",
       "      <td>2.3</td>\n",
       "      <td>3.2</td>\n",
       "      <td>5.0</td>\n",
       "      <td>1.7</td>\n",
       "    </tr>\n",
       "  </tbody>\n",
       "</table>\n",
       "</div>"
      ],
      "text/plain": [
       "Fruit   Banana  Lemon  Lime  Mango  Peach  Pineapple\n",
       "User                                                \n",
       "user0      1.1    4.3   4.7    1.0    2.4        4.9\n",
       "user1      1.2    4.6   4.5    1.3    2.1        4.8\n",
       "user10     4.8    3.7   4.1    2.2    3.3        2.4\n",
       "user11     2.5    2.9   3.7    4.1    1.8        4.1\n",
       "user12     4.2    4.1   2.3    3.2    5.0        1.7"
      ]
     },
     "execution_count": 31,
     "metadata": {},
     "output_type": "execute_result"
    }
   ],
   "source": [
    "# view the original data set\n",
    "X.head()"
   ]
  },
  {
   "cell_type": "code",
   "execution_count": 32,
   "id": "bc9fc527-7600-44a5-8831-11869a3d400c",
   "metadata": {},
   "outputs": [
    {
     "data": {
      "text/plain": [
       "(30, 6)"
      ]
     },
     "execution_count": 32,
     "metadata": {},
     "output_type": "execute_result"
    }
   ],
   "source": [
    "# view the shape of the original data set\n",
    "X.shape"
   ]
  },
  {
   "cell_type": "markdown",
   "id": "1060e881-f682-429d-a8b8-853e43f2f9eb",
   "metadata": {},
   "source": [
    "### Model 1 : SVD with 2 components"
   ]
  },
  {
   "cell_type": "code",
   "execution_count": 33,
   "id": "3db1ed96-c0e0-4861-8d64-227e90cea68e",
   "metadata": {},
   "outputs": [
    {
     "data": {
      "text/html": [
       "<div>\n",
       "<style scoped>\n",
       "    .dataframe tbody tr th:only-of-type {\n",
       "        vertical-align: middle;\n",
       "    }\n",
       "\n",
       "    .dataframe tbody tr th {\n",
       "        vertical-align: top;\n",
       "    }\n",
       "\n",
       "    .dataframe thead th {\n",
       "        text-align: right;\n",
       "    }\n",
       "</style>\n",
       "<table border=\"1\" class=\"dataframe\">\n",
       "  <thead>\n",
       "    <tr style=\"text-align: right;\">\n",
       "      <th></th>\n",
       "      <th>0</th>\n",
       "      <th>1</th>\n",
       "    </tr>\n",
       "    <tr>\n",
       "      <th>User</th>\n",
       "      <th></th>\n",
       "      <th></th>\n",
       "    </tr>\n",
       "  </thead>\n",
       "  <tbody>\n",
       "    <tr>\n",
       "      <th>user0</th>\n",
       "      <td>7.473496</td>\n",
       "      <td>4.062791</td>\n",
       "    </tr>\n",
       "    <tr>\n",
       "      <th>user1</th>\n",
       "      <td>7.491190</td>\n",
       "      <td>3.972463</td>\n",
       "    </tr>\n",
       "    <tr>\n",
       "      <th>user10</th>\n",
       "      <td>8.330967</td>\n",
       "      <td>0.158395</td>\n",
       "    </tr>\n",
       "    <tr>\n",
       "      <th>user11</th>\n",
       "      <td>7.725274</td>\n",
       "      <td>0.926172</td>\n",
       "    </tr>\n",
       "    <tr>\n",
       "      <th>user12</th>\n",
       "      <td>8.366775</td>\n",
       "      <td>-1.396251</td>\n",
       "    </tr>\n",
       "  </tbody>\n",
       "</table>\n",
       "</div>"
      ],
      "text/plain": [
       "               0         1\n",
       "User                      \n",
       "user0   7.473496  4.062791\n",
       "user1   7.491190  3.972463\n",
       "user10  8.330967  0.158395\n",
       "user11  7.725274  0.926172\n",
       "user12  8.366775 -1.396251"
      ]
     },
     "execution_count": 33,
     "metadata": {},
     "output_type": "execute_result"
    }
   ],
   "source": [
    "# view the U matrix\n",
    "U_df.head()"
   ]
  },
  {
   "cell_type": "code",
   "execution_count": 34,
   "id": "26ba58d5-750b-4352-a9b2-4d5ed0909345",
   "metadata": {},
   "outputs": [
    {
     "data": {
      "text/plain": [
       "(30, 2)"
      ]
     },
     "execution_count": 34,
     "metadata": {},
     "output_type": "execute_result"
    }
   ],
   "source": [
    "# view the shape of the U matrix\n",
    "U_df.shape"
   ]
  },
  {
   "cell_type": "code",
   "execution_count": 35,
   "id": "f2e0a7b7-5a1b-4b31-b705-41ffefc52f13",
   "metadata": {},
   "outputs": [
    {
     "data": {
      "text/plain": [
       "array([0.01114043, 0.83500665])"
      ]
     },
     "execution_count": 35,
     "metadata": {},
     "output_type": "execute_result"
    }
   ],
   "source": [
    "# view the explained variance ratios\n",
    "\n",
    "svd.explained_variance_ratio_"
   ]
  },
  {
   "cell_type": "code",
   "execution_count": 36,
   "id": "7ad3d81a-52d3-42dc-8eba-5faaf7c42571",
   "metadata": {},
   "outputs": [
    {
     "data": {
      "text/plain": [
       "0.8461470788660226"
      ]
     },
     "execution_count": 36,
     "metadata": {},
     "output_type": "execute_result"
    }
   ],
   "source": [
    "# total explained variance\n",
    "\n",
    "sum(svd.explained_variance_ratio_)"
   ]
  },
  {
   "cell_type": "markdown",
   "id": "612ddc91-5c55-423e-965c-bf81be24fb1e",
   "metadata": {},
   "source": [
    "### Model 2 : SVD with 6 components"
   ]
  },
  {
   "cell_type": "code",
   "execution_count": 37,
   "id": "f2c9c465-f1c1-465c-89a1-1d057ac77c34",
   "metadata": {},
   "outputs": [],
   "source": [
    "# try SVD with all 6 components\n",
    "svd6 = TruncatedSVD(n_components=6)\n",
    "U6 = svd6.fit_transform(X)"
   ]
  },
  {
   "cell_type": "code",
   "execution_count": 38,
   "id": "b8983c2c-e5ed-43cf-a8c3-e146f7b2c663",
   "metadata": {},
   "outputs": [
    {
     "data": {
      "text/html": [
       "<div>\n",
       "<style scoped>\n",
       "    .dataframe tbody tr th:only-of-type {\n",
       "        vertical-align: middle;\n",
       "    }\n",
       "\n",
       "    .dataframe tbody tr th {\n",
       "        vertical-align: top;\n",
       "    }\n",
       "\n",
       "    .dataframe thead th {\n",
       "        text-align: right;\n",
       "    }\n",
       "</style>\n",
       "<table border=\"1\" class=\"dataframe\">\n",
       "  <thead>\n",
       "    <tr style=\"text-align: right;\">\n",
       "      <th></th>\n",
       "      <th>0</th>\n",
       "      <th>1</th>\n",
       "      <th>2</th>\n",
       "      <th>3</th>\n",
       "      <th>4</th>\n",
       "      <th>5</th>\n",
       "    </tr>\n",
       "    <tr>\n",
       "      <th>User</th>\n",
       "      <th></th>\n",
       "      <th></th>\n",
       "      <th></th>\n",
       "      <th></th>\n",
       "      <th></th>\n",
       "      <th></th>\n",
       "    </tr>\n",
       "  </thead>\n",
       "  <tbody>\n",
       "    <tr>\n",
       "      <th>user0</th>\n",
       "      <td>7.473496</td>\n",
       "      <td>4.062791</td>\n",
       "      <td>0.069101</td>\n",
       "      <td>-0.252455</td>\n",
       "      <td>-0.363006</td>\n",
       "      <td>0.017474</td>\n",
       "    </tr>\n",
       "    <tr>\n",
       "      <th>user1</th>\n",
       "      <td>7.491190</td>\n",
       "      <td>3.972463</td>\n",
       "      <td>0.069951</td>\n",
       "      <td>-0.213452</td>\n",
       "      <td>0.200745</td>\n",
       "      <td>-0.029323</td>\n",
       "    </tr>\n",
       "    <tr>\n",
       "      <th>user10</th>\n",
       "      <td>8.330967</td>\n",
       "      <td>0.158395</td>\n",
       "      <td>-1.456494</td>\n",
       "      <td>1.829248</td>\n",
       "      <td>0.024443</td>\n",
       "      <td>0.363001</td>\n",
       "    </tr>\n",
       "    <tr>\n",
       "      <th>user11</th>\n",
       "      <td>7.725274</td>\n",
       "      <td>0.926172</td>\n",
       "      <td>1.780361</td>\n",
       "      <td>0.514856</td>\n",
       "      <td>0.997471</td>\n",
       "      <td>-0.492574</td>\n",
       "    </tr>\n",
       "    <tr>\n",
       "      <th>user12</th>\n",
       "      <td>8.366775</td>\n",
       "      <td>-1.396251</td>\n",
       "      <td>-2.265663</td>\n",
       "      <td>-0.059205</td>\n",
       "      <td>0.303751</td>\n",
       "      <td>-0.829798</td>\n",
       "    </tr>\n",
       "  </tbody>\n",
       "</table>\n",
       "</div>"
      ],
      "text/plain": [
       "               0         1         2         3         4         5\n",
       "User                                                              \n",
       "user0   7.473496  4.062791  0.069101 -0.252455 -0.363006  0.017474\n",
       "user1   7.491190  3.972463  0.069951 -0.213452  0.200745 -0.029323\n",
       "user10  8.330967  0.158395 -1.456494  1.829248  0.024443  0.363001\n",
       "user11  7.725274  0.926172  1.780361  0.514856  0.997471 -0.492574\n",
       "user12  8.366775 -1.396251 -2.265663 -0.059205  0.303751 -0.829798"
      ]
     },
     "execution_count": 38,
     "metadata": {},
     "output_type": "execute_result"
    }
   ],
   "source": [
    "# view the U6 matrix\n",
    "U6_df = pd.DataFrame(U6, index=X.index)\n",
    "U6_df.head()"
   ]
  },
  {
   "cell_type": "code",
   "execution_count": 39,
   "id": "d96a6fe4-3979-4c25-aaca-1e6fb1b367ae",
   "metadata": {},
   "outputs": [
    {
     "data": {
      "text/plain": [
       "(30, 6)"
      ]
     },
     "execution_count": 39,
     "metadata": {},
     "output_type": "execute_result"
    }
   ],
   "source": [
    "# view the shape of the U matrix\n",
    "U6_df.shape"
   ]
  },
  {
   "cell_type": "code",
   "execution_count": 40,
   "id": "46e5d8e3-d157-435f-b590-2585837dc989",
   "metadata": {},
   "outputs": [
    {
     "data": {
      "text/plain": [
       "array([0.01, 0.84, 0.08, 0.05, 0.01, 0.01])"
      ]
     },
     "execution_count": 40,
     "metadata": {},
     "output_type": "execute_result"
    }
   ],
   "source": [
    "# view the explained variance ratios\n",
    "svd6.explained_variance_ratio_.round(2)"
   ]
  },
  {
   "cell_type": "code",
   "execution_count": 41,
   "id": "be5ab547-205b-4782-8843-e647fccfd7d6",
   "metadata": {},
   "outputs": [
    {
     "data": {
      "text/plain": [
       "array([0.01, 0.85, 0.93, 0.98, 0.99, 1.  ])"
      ]
     },
     "execution_count": 41,
     "metadata": {},
     "output_type": "execute_result"
    }
   ],
   "source": [
    "# view the cumulative explained variance ratio\n",
    "import numpy as np\n",
    "\n",
    "np.cumsum(svd6.explained_variance_ratio_).round(2)"
   ]
  },
  {
   "cell_type": "code",
   "execution_count": 42,
   "id": "787b241a-8c47-42f8-b223-a333bf75612f",
   "metadata": {},
   "outputs": [
    {
     "data": {
      "text/plain": [
       "[(1, 0.011140426986469578),\n",
       " (2, 0.8461470788660226),\n",
       " (3, 0.9263972581039884),\n",
       " (4, 0.9759333027137889),\n",
       " (5, 0.9903851759902448),\n",
       " (6, 1.0000000000000002)]"
      ]
     },
     "execution_count": 42,
     "metadata": {},
     "output_type": "execute_result"
    }
   ],
   "source": [
    "# prep the data for line plot\n",
    "cum_evr6 = list(zip(range(1, U6.shape[1] + 1), np.cumsum(svd6.explained_variance_ratio_))) # hits 80% at 2 components\n",
    "cum_evr6"
   ]
  },
  {
   "cell_type": "code",
   "execution_count": 43,
   "id": "23df6310-9b72-4210-ab01-7291f207770d",
   "metadata": {},
   "outputs": [
    {
     "data": {
      "image/png": "[encoded data removed]",
      "text/plain": [
       "<Figure size 640x480 with 1 Axes>"
      ]
     },
     "metadata": {},
     "output_type": "display_data"
    }
   ],
   "source": [
    "# 80%+ of the variance is captured at 2 components --> choose a 2 component model\n",
    "cum_evr6_df = pd.DataFrame(cum_evr6).set_index(0)\n",
    "cum_evr6_df.plot(title='Number of Components vs Cumulative Explained Variance Ratio',\n",
    "                xlabel='Components',\n",
    "                ylabel='Cumulative Explained Variance Ratio',\n",
    "                legend=False);"
   ]
  },
  {
   "cell_type": "markdown",
   "id": "1ccee0b6-ab90-48ad-af05-9a5768bbf196",
   "metadata": {},
   "source": [
    "### d. Recommending : Making recommendation"
   ]
  },
  {
   "cell_type": "markdown",
   "id": "37de7a49-5e16-4f9b-bab6-716918ded429",
   "metadata": {},
   "source": [
    "#### Step1 : Select a final model"
   ]
  },
  {
   "cell_type": "code",
   "execution_count": 44,
   "id": "0bfb8295-07f8-4d3c-9143-5c6ddbda8b2b",
   "metadata": {},
   "outputs": [],
   "source": [
    "# let's say we settled on the 2 component model\n",
    "svd = TruncatedSVD(n_components=2)\n",
    "U = svd.fit_transform(X)"
   ]
  },
  {
   "cell_type": "code",
   "execution_count": 45,
   "id": "2916b7c5-6115-4855-93ed-3b2cd1bedbbc",
   "metadata": {},
   "outputs": [
    {
     "data": {
      "text/plain": [
       "0.8461470788660231"
      ]
     },
     "execution_count": 45,
     "metadata": {},
     "output_type": "execute_result"
    }
   ],
   "source": [
    "# calculate the total explained variance\n",
    "sum(svd.explained_variance_ratio_)"
   ]
  },
  {
   "cell_type": "markdown",
   "id": "84e92a33-690f-496d-9aee-461185e15bbe",
   "metadata": {},
   "source": [
    "#### step2 : Introduce a new user"
   ]
  },
  {
   "cell_type": "code",
   "execution_count": 46,
   "id": "74a78113-70d0-4ee3-9a5c-b5bf374b9445",
   "metadata": {},
   "outputs": [
    {
     "data": {
      "text/plain": [
       "array([nan,  2., nan,  5., nan, nan])"
      ]
     },
     "execution_count": 46,
     "metadata": {},
     "output_type": "execute_result"
    }
   ],
   "source": [
    "# this new user has rated 2 out of 6 fruits\n",
    "new_user = np.array([np.NaN, 2, np.NaN, 5, np.NaN, np.NaN])\n",
    "new_user"
   ]
  },
  {
   "cell_type": "code",
   "execution_count": 47,
   "id": "881aa802-e85e-4b06-bc4b-60ce401ec719",
   "metadata": {},
   "outputs": [
    {
     "data": {
      "text/html": [
       "<div>\n",
       "<style scoped>\n",
       "    .dataframe tbody tr th:only-of-type {\n",
       "        vertical-align: middle;\n",
       "    }\n",
       "\n",
       "    .dataframe tbody tr th {\n",
       "        vertical-align: top;\n",
       "    }\n",
       "\n",
       "    .dataframe thead th {\n",
       "        text-align: right;\n",
       "    }\n",
       "</style>\n",
       "<table border=\"1\" class=\"dataframe\">\n",
       "  <thead>\n",
       "    <tr style=\"text-align: right;\">\n",
       "      <th>Fruit</th>\n",
       "      <th>Banana</th>\n",
       "      <th>Lemon</th>\n",
       "      <th>Lime</th>\n",
       "      <th>Mango</th>\n",
       "      <th>Peach</th>\n",
       "      <th>Pineapple</th>\n",
       "    </tr>\n",
       "  </thead>\n",
       "  <tbody>\n",
       "    <tr>\n",
       "      <th>0</th>\n",
       "      <td>NaN</td>\n",
       "      <td>2.0</td>\n",
       "      <td>NaN</td>\n",
       "      <td>5.0</td>\n",
       "      <td>NaN</td>\n",
       "      <td>NaN</td>\n",
       "    </tr>\n",
       "  </tbody>\n",
       "</table>\n",
       "</div>"
      ],
      "text/plain": [
       "Fruit  Banana  Lemon  Lime  Mango  Peach  Pineapple\n",
       "0         NaN    2.0   NaN    5.0    NaN        NaN"
      ]
     },
     "execution_count": 47,
     "metadata": {},
     "output_type": "execute_result"
    }
   ],
   "source": [
    "# view the new user's ratings as a dataframe\n",
    "new_user_6d = pd.DataFrame([new_user], columns=X.columns)\n",
    "new_user_6d"
   ]
  },
  {
   "cell_type": "code",
   "execution_count": 48,
   "id": "6edf93f9-1a82-4b47-9368-c285d439cba7",
   "metadata": {},
   "outputs": [
    {
     "data": {
      "text/plain": [
       "array([[ 7.71732809, -1.1256194 ]])"
      ]
     },
     "execution_count": 48,
     "metadata": {},
     "output_type": "execute_result"
    }
   ],
   "source": [
    "# transform the new user into a 2d space using our SVD model\n",
    "new_user_2d = svd.transform(new_user_6d.fillna(3))\n",
    "new_user_2d"
   ]
  },
  {
   "cell_type": "markdown",
   "id": "62d82b6b-97cf-4c89-956a-b6a9e65b03fd",
   "metadata": {},
   "source": [
    "#### step3 : Generate recommendation"
   ]
  },
  {
   "cell_type": "code",
   "execution_count": 49,
   "id": "3d61670a-519c-4f49-8111-b3841c3070c6",
   "metadata": {},
   "outputs": [
    {
     "data": {
      "text/plain": [
       "array([[ 7.71732809, -1.1256194 ]])"
      ]
     },
     "execution_count": 49,
     "metadata": {},
     "output_type": "execute_result"
    }
   ],
   "source": [
    "# our new user\n",
    "new_user_2d"
   ]
  },
  {
   "cell_type": "code",
   "execution_count": 50,
   "id": "55cecdcc-2017-4764-aab4-37960f163735",
   "metadata": {},
   "outputs": [
    {
     "data": {
      "text/plain": [
       "(1, 2)"
      ]
     },
     "execution_count": 50,
     "metadata": {},
     "output_type": "execute_result"
    }
   ],
   "source": [
    "# it's a 1x2 matrix\n",
    "new_user_2d.shape"
   ]
  },
  {
   "cell_type": "code",
   "execution_count": 51,
   "id": "095428d8-d83b-4ea9-b874-2adeed0c6ffa",
   "metadata": {},
   "outputs": [
    {
     "data": {
      "text/plain": [
       "array([[ 0.42282328,  0.37639792,  0.37834394,  0.38195861,  0.44026026,  0.44348558],\n",
       "       [-0.46837309,  0.41936738,  0.46765486, -0.42664448, -0.28962047,  0.34662812]])"
      ]
     },
     "execution_count": 51,
     "metadata": {},
     "output_type": "execute_result"
    }
   ],
   "source": [
    "# our VT matrix\n",
    "svd.components_"
   ]
  },
  {
   "cell_type": "code",
   "execution_count": 52,
   "id": "84c2ac17-97c4-48c8-9eef-98fa6f2ea12d",
   "metadata": {},
   "outputs": [
    {
     "data": {
      "text/plain": [
       "(2, 6)"
      ]
     },
     "execution_count": 52,
     "metadata": {},
     "output_type": "execute_result"
    }
   ],
   "source": [
    "# it's a 2x6 matrix\n",
    "svd.components_.shape"
   ]
  },
  {
   "cell_type": "code",
   "execution_count": 53,
   "id": "2da001c6-37cb-4c60-8111-7c86975e1cf6",
   "metadata": {},
   "outputs": [
    {
     "data": {
      "text/plain": [
       "array([[3.79027584, 2.43273821, 2.39340291, 3.4279392 , 3.72363531, 3.03235241]])"
      ]
     },
     "execution_count": 53,
     "metadata": {},
     "output_type": "execute_result"
    }
   ],
   "source": [
    "# we want the output to be a 1x6 matrix to see all of their predicted ratings\n",
    "new_user_recs = np.dot(new_user_2d, svd.components_)\n",
    "new_user_recs"
   ]
  },
  {
   "cell_type": "code",
   "execution_count": 54,
   "id": "b9ca9e72-f7a3-4b07-a142-7be06be08fea",
   "metadata": {},
   "outputs": [
    {
     "data": {
      "text/plain": [
       "(1, 6)"
      ]
     },
     "execution_count": 54,
     "metadata": {},
     "output_type": "execute_result"
    }
   ],
   "source": [
    "# it's a 1x6 matrix\n",
    "new_user_recs.shape"
   ]
  },
  {
   "cell_type": "code",
   "execution_count": 55,
   "id": "2ad956b8-6758-49ce-8abd-92a8bc82ced7",
   "metadata": {},
   "outputs": [
    {
     "data": {
      "text/html": [
       "<div>\n",
       "<style scoped>\n",
       "    .dataframe tbody tr th:only-of-type {\n",
       "        vertical-align: middle;\n",
       "    }\n",
       "\n",
       "    .dataframe tbody tr th {\n",
       "        vertical-align: top;\n",
       "    }\n",
       "\n",
       "    .dataframe thead th {\n",
       "        text-align: right;\n",
       "    }\n",
       "</style>\n",
       "<table border=\"1\" class=\"dataframe\">\n",
       "  <thead>\n",
       "    <tr style=\"text-align: right;\">\n",
       "      <th>Fruit</th>\n",
       "      <th>Banana</th>\n",
       "      <th>Lemon</th>\n",
       "      <th>Lime</th>\n",
       "      <th>Mango</th>\n",
       "      <th>Peach</th>\n",
       "      <th>Pineapple</th>\n",
       "    </tr>\n",
       "  </thead>\n",
       "  <tbody>\n",
       "    <tr>\n",
       "      <th>0</th>\n",
       "      <td>3.790276</td>\n",
       "      <td>2.432738</td>\n",
       "      <td>2.393403</td>\n",
       "      <td>3.427939</td>\n",
       "      <td>3.723635</td>\n",
       "      <td>3.032352</td>\n",
       "    </tr>\n",
       "  </tbody>\n",
       "</table>\n",
       "</div>"
      ],
      "text/plain": [
       "Fruit    Banana     Lemon      Lime     Mango     Peach  Pineapple\n",
       "0      3.790276  2.432738  2.393403  3.427939  3.723635   3.032352"
      ]
     },
     "execution_count": 55,
     "metadata": {},
     "output_type": "execute_result"
    }
   ],
   "source": [
    "# view the recommendations\n",
    "recs = pd.DataFrame(new_user_recs, columns=X.columns)\n",
    "recs"
   ]
  },
  {
   "cell_type": "code",
   "execution_count": 56,
   "id": "897212d7-9a76-40c5-94f3-7ee7bd0dceac",
   "metadata": {},
   "outputs": [
    {
     "data": {
      "text/html": [
       "<div>\n",
       "<style scoped>\n",
       "    .dataframe tbody tr th:only-of-type {\n",
       "        vertical-align: middle;\n",
       "    }\n",
       "\n",
       "    .dataframe tbody tr th {\n",
       "        vertical-align: top;\n",
       "    }\n",
       "\n",
       "    .dataframe thead th {\n",
       "        text-align: right;\n",
       "    }\n",
       "</style>\n",
       "<table border=\"1\" class=\"dataframe\">\n",
       "  <thead>\n",
       "    <tr style=\"text-align: right;\">\n",
       "      <th></th>\n",
       "      <th>Recs</th>\n",
       "    </tr>\n",
       "  </thead>\n",
       "  <tbody>\n",
       "    <tr>\n",
       "      <th>Banana</th>\n",
       "      <td>3.790276</td>\n",
       "    </tr>\n",
       "    <tr>\n",
       "      <th>Peach</th>\n",
       "      <td>3.723635</td>\n",
       "    </tr>\n",
       "    <tr>\n",
       "      <th>Mango</th>\n",
       "      <td>3.427939</td>\n",
       "    </tr>\n",
       "    <tr>\n",
       "      <th>Pineapple</th>\n",
       "      <td>3.032352</td>\n",
       "    </tr>\n",
       "    <tr>\n",
       "      <th>Lemon</th>\n",
       "      <td>2.432738</td>\n",
       "    </tr>\n",
       "    <tr>\n",
       "      <th>Lime</th>\n",
       "      <td>2.393403</td>\n",
       "    </tr>\n",
       "  </tbody>\n",
       "</table>\n",
       "</div>"
      ],
      "text/plain": [
       "               Recs\n",
       "Banana     3.790276\n",
       "Peach      3.723635\n",
       "Mango      3.427939\n",
       "Pineapple  3.032352\n",
       "Lemon      2.432738\n",
       "Lime       2.393403"
      ]
     },
     "execution_count": 56,
     "metadata": {},
     "output_type": "execute_result"
    }
   ],
   "source": [
    "# sorted recommendations\n",
    "top_recs = recs.T.sort_values(0, ascending=False)\n",
    "top_recs.index.name = None\n",
    "top_recs.columns = ['Recs']\n",
    "top_recs"
   ]
  },
  {
   "cell_type": "code",
   "execution_count": 57,
   "id": "056318fd-793a-4aa0-a478-3440b66b155f",
   "metadata": {},
   "outputs": [
    {
     "data": {
      "text/plain": [
       "Index(['Lemon', 'Mango'], dtype='object', name='Fruit')"
      ]
     },
     "execution_count": 57,
     "metadata": {},
     "output_type": "execute_result"
    }
   ],
   "source": [
    "# identify the already rated fruits\n",
    "already_rated = new_user_6d.T.dropna().index\n",
    "already_rated"
   ]
  },
  {
   "cell_type": "code",
   "execution_count": 59,
   "id": "1790a2fe-3e54-498b-9e31-14eeaae9efec",
   "metadata": {},
   "outputs": [
    {
     "data": {
      "text/html": [
       "<div>\n",
       "<style scoped>\n",
       "    .dataframe tbody tr th:only-of-type {\n",
       "        vertical-align: middle;\n",
       "    }\n",
       "\n",
       "    .dataframe tbody tr th {\n",
       "        vertical-align: top;\n",
       "    }\n",
       "\n",
       "    .dataframe thead th {\n",
       "        text-align: right;\n",
       "    }\n",
       "</style>\n",
       "<table border=\"1\" class=\"dataframe\">\n",
       "  <thead>\n",
       "    <tr style=\"text-align: right;\">\n",
       "      <th></th>\n",
       "      <th>Recs</th>\n",
       "    </tr>\n",
       "  </thead>\n",
       "  <tbody>\n",
       "    <tr>\n",
       "      <th>Banana</th>\n",
       "      <td>3.790276</td>\n",
       "    </tr>\n",
       "    <tr>\n",
       "      <th>Peach</th>\n",
       "      <td>3.723635</td>\n",
       "    </tr>\n",
       "    <tr>\n",
       "      <th>Pineapple</th>\n",
       "      <td>3.032352</td>\n",
       "    </tr>\n",
       "    <tr>\n",
       "      <th>Lime</th>\n",
       "      <td>2.393403</td>\n",
       "    </tr>\n",
       "  </tbody>\n",
       "</table>\n",
       "</div>"
      ],
      "text/plain": [
       "               Recs\n",
       "Banana     3.790276\n",
       "Peach      3.723635\n",
       "Pineapple  3.032352\n",
       "Lime       2.393403"
      ]
     },
     "execution_count": 59,
     "metadata": {},
     "output_type": "execute_result"
    }
   ],
   "source": [
    "# exclude the already rated fruits\n",
    "top_recs[~top_recs.index.isin(already_rated)]"
   ]
  },
  {
   "cell_type": "code",
   "execution_count": null,
   "id": "969174d7-94aa-4445-8a78-b249ec9cbee8",
   "metadata": {},
   "outputs": [],
   "source": []
  },
  {
   "cell_type": "code",
   "execution_count": null,
   "id": "acca75b7-c5de-44fa-a7a1-4d50be28a454",
   "metadata": {},
   "outputs": [],
   "source": []
  },
  {
   "cell_type": "code",
   "execution_count": null,
   "id": "b653f85e-27ee-4d5f-ae2c-cac5a9a55fea",
   "metadata": {},
   "outputs": [],
   "source": []
  },
  {
   "cell_type": "code",
   "execution_count": null,
   "id": "14838aa5-c2db-43b3-82e5-0da08b5e2268",
   "metadata": {},
   "outputs": [],
   "source": []
  },
  {
   "cell_type": "code",
   "execution_count": null,
   "id": "ec806713-f364-4e3f-990e-e3ffac5a9e1f",
   "metadata": {},
   "outputs": [],
   "source": []
  },
  {
   "cell_type": "code",
   "execution_count": null,
   "id": "989f7d4a-5ac7-4726-835c-b5bdf84e3f04",
   "metadata": {},
   "outputs": [],
   "source": []
  },
  {
   "cell_type": "code",
   "execution_count": null,
   "id": "da39c001-d3b2-4f99-9de0-c033c1c2b6bf",
   "metadata": {},
   "outputs": [],
   "source": []
  },
  {
   "cell_type": "code",
   "execution_count": null,
   "id": "b7406b6d-c894-4ad8-879d-d75ae13e5bd9",
   "metadata": {},
   "outputs": [],
   "source": []
  }
 ],
 "metadata": {
  "kernelspec": {
   "display_name": "Python 3 (ipykernel)",
   "language": "python",
   "name": "python3"
  },
  "language_info": {
   "codemirror_mode": {
    "name": "ipython",
    "version": 3
   },
   "file_extension": ".py",
   "mimetype": "text/x-python",
   "name": "python",
   "nbconvert_exporter": "python",
   "pygments_lexer": "ipython3",
   "version": "3.12.4"
  }
 },
 "nbformat": 4,
 "nbformat_minor": 5
}
