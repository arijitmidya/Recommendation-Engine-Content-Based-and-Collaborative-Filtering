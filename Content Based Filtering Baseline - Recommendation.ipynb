{
 "cells": [
  {
   "cell_type": "markdown",
   "id": "358fbe5f-727f-4b1f-9fcf-6fe2801b8ac6",
   "metadata": {},
   "source": [
    "# Recommender System - Content Based Filter"
   ]
  },
  {
   "cell_type": "code",
   "execution_count": 1,
   "id": "b2c4cac1-fe89-49ce-88a5-fbd255c2c49b",
   "metadata": {},
   "outputs": [],
   "source": [
    "# Import necessary libraries\n",
    "\n",
    "import pandas as pd\n",
    "import numpy as np\n"
   ]
  },
  {
   "cell_type": "code",
   "execution_count": 2,
   "id": "599d88c9-b458-4951-99d8-9faa29688276",
   "metadata": {},
   "outputs": [
    {
     "data": {
      "text/html": [
       "<div>\n",
       "<style scoped>\n",
       "    .dataframe tbody tr th:only-of-type {\n",
       "        vertical-align: middle;\n",
       "    }\n",
       "\n",
       "    .dataframe tbody tr th {\n",
       "        vertical-align: top;\n",
       "    }\n",
       "\n",
       "    .dataframe thead th {\n",
       "        text-align: right;\n",
       "    }\n",
       "</style>\n",
       "<table border=\"1\" class=\"dataframe\">\n",
       "  <thead>\n",
       "    <tr style=\"text-align: right;\">\n",
       "      <th></th>\n",
       "      <th>fruit_100g</th>\n",
       "      <th>energy_kcal</th>\n",
       "      <th>water_g</th>\n",
       "      <th>protein_g</th>\n",
       "      <th>totalfat_g</th>\n",
       "      <th>fiber_g</th>\n",
       "      <th>sugars_g</th>\n",
       "      <th>vitaminc_mg</th>\n",
       "    </tr>\n",
       "  </thead>\n",
       "  <tbody>\n",
       "    <tr>\n",
       "      <th>0</th>\n",
       "      <td>Banana</td>\n",
       "      <td>89</td>\n",
       "      <td>74.9</td>\n",
       "      <td>1.09</td>\n",
       "      <td>0.33</td>\n",
       "      <td>2.6</td>\n",
       "      <td>12.20</td>\n",
       "      <td>8.7</td>\n",
       "    </tr>\n",
       "    <tr>\n",
       "      <th>1</th>\n",
       "      <td>Lemon</td>\n",
       "      <td>29</td>\n",
       "      <td>89.0</td>\n",
       "      <td>1.10</td>\n",
       "      <td>0.30</td>\n",
       "      <td>2.8</td>\n",
       "      <td>2.50</td>\n",
       "      <td>53.0</td>\n",
       "    </tr>\n",
       "    <tr>\n",
       "      <th>2</th>\n",
       "      <td>Lime</td>\n",
       "      <td>30</td>\n",
       "      <td>88.3</td>\n",
       "      <td>0.70</td>\n",
       "      <td>0.20</td>\n",
       "      <td>2.8</td>\n",
       "      <td>1.69</td>\n",
       "      <td>29.1</td>\n",
       "    </tr>\n",
       "    <tr>\n",
       "      <th>3</th>\n",
       "      <td>Mango</td>\n",
       "      <td>46</td>\n",
       "      <td>88.3</td>\n",
       "      <td>0.91</td>\n",
       "      <td>0.27</td>\n",
       "      <td>1.5</td>\n",
       "      <td>8.39</td>\n",
       "      <td>4.1</td>\n",
       "    </tr>\n",
       "    <tr>\n",
       "      <th>4</th>\n",
       "      <td>Peach</td>\n",
       "      <td>60</td>\n",
       "      <td>83.5</td>\n",
       "      <td>0.82</td>\n",
       "      <td>0.38</td>\n",
       "      <td>1.6</td>\n",
       "      <td>13.70</td>\n",
       "      <td>36.4</td>\n",
       "    </tr>\n",
       "  </tbody>\n",
       "</table>\n",
       "</div>"
      ],
      "text/plain": [
       "  fruit_100g  energy_kcal  water_g  protein_g  totalfat_g  fiber_g  sugars_g  \\\n",
       "0     Banana           89     74.9       1.09        0.33      2.6     12.20   \n",
       "1      Lemon           29     89.0       1.10        0.30      2.8      2.50   \n",
       "2       Lime           30     88.3       0.70        0.20      2.8      1.69   \n",
       "3      Mango           46     88.3       0.91        0.27      1.5      8.39   \n",
       "4      Peach           60     83.5       0.82        0.38      1.6     13.70   \n",
       "\n",
       "   vitaminc_mg  \n",
       "0          8.7  \n",
       "1         53.0  \n",
       "2         29.1  \n",
       "3          4.1  \n",
       "4         36.4  "
      ]
     },
     "execution_count": 2,
     "metadata": {},
     "output_type": "execute_result"
    }
   ],
   "source": [
    "# Import necessary datasets \n",
    "\n",
    "fruit_nutrition = pd.read_csv(\"C:/Users/ariji/OneDrive/Desktop/Data science & ML/Unsupervised Machine Learning/Data/fruit_nutrition.csv\")\n",
    "fruit_nutrition.head()"
   ]
  },
  {
   "cell_type": "code",
   "execution_count": 4,
   "id": "9953c125-cace-41b0-999e-b7f32daa1ef3",
   "metadata": {},
   "outputs": [
    {
     "data": {
      "text/html": [
       "<div>\n",
       "<style scoped>\n",
       "    .dataframe tbody tr th:only-of-type {\n",
       "        vertical-align: middle;\n",
       "    }\n",
       "\n",
       "    .dataframe tbody tr th {\n",
       "        vertical-align: top;\n",
       "    }\n",
       "\n",
       "    .dataframe thead th {\n",
       "        text-align: right;\n",
       "    }\n",
       "</style>\n",
       "<table border=\"1\" class=\"dataframe\">\n",
       "  <thead>\n",
       "    <tr style=\"text-align: right;\">\n",
       "      <th></th>\n",
       "      <th>energy_kcal</th>\n",
       "      <th>water_g</th>\n",
       "      <th>protein_g</th>\n",
       "      <th>totalfat_g</th>\n",
       "      <th>fiber_g</th>\n",
       "      <th>sugars_g</th>\n",
       "      <th>vitaminc_mg</th>\n",
       "    </tr>\n",
       "  </thead>\n",
       "  <tbody>\n",
       "    <tr>\n",
       "      <th>Banana</th>\n",
       "      <td>89</td>\n",
       "      <td>74.9</td>\n",
       "      <td>1.09</td>\n",
       "      <td>0.33</td>\n",
       "      <td>2.6</td>\n",
       "      <td>12.20</td>\n",
       "      <td>8.7</td>\n",
       "    </tr>\n",
       "    <tr>\n",
       "      <th>Lemon</th>\n",
       "      <td>29</td>\n",
       "      <td>89.0</td>\n",
       "      <td>1.10</td>\n",
       "      <td>0.30</td>\n",
       "      <td>2.8</td>\n",
       "      <td>2.50</td>\n",
       "      <td>53.0</td>\n",
       "    </tr>\n",
       "    <tr>\n",
       "      <th>Lime</th>\n",
       "      <td>30</td>\n",
       "      <td>88.3</td>\n",
       "      <td>0.70</td>\n",
       "      <td>0.20</td>\n",
       "      <td>2.8</td>\n",
       "      <td>1.69</td>\n",
       "      <td>29.1</td>\n",
       "    </tr>\n",
       "    <tr>\n",
       "      <th>Mango</th>\n",
       "      <td>46</td>\n",
       "      <td>88.3</td>\n",
       "      <td>0.91</td>\n",
       "      <td>0.27</td>\n",
       "      <td>1.5</td>\n",
       "      <td>8.39</td>\n",
       "      <td>4.1</td>\n",
       "    </tr>\n",
       "    <tr>\n",
       "      <th>Peach</th>\n",
       "      <td>60</td>\n",
       "      <td>83.5</td>\n",
       "      <td>0.82</td>\n",
       "      <td>0.38</td>\n",
       "      <td>1.6</td>\n",
       "      <td>13.70</td>\n",
       "      <td>36.4</td>\n",
       "    </tr>\n",
       "    <tr>\n",
       "      <th>Pineapple</th>\n",
       "      <td>50</td>\n",
       "      <td>86.0</td>\n",
       "      <td>0.54</td>\n",
       "      <td>0.12</td>\n",
       "      <td>1.4</td>\n",
       "      <td>9.85</td>\n",
       "      <td>47.8</td>\n",
       "    </tr>\n",
       "  </tbody>\n",
       "</table>\n",
       "</div>"
      ],
      "text/plain": [
       "           energy_kcal  water_g  protein_g  totalfat_g  fiber_g  sugars_g  \\\n",
       "Banana              89     74.9       1.09        0.33      2.6     12.20   \n",
       "Lemon               29     89.0       1.10        0.30      2.8      2.50   \n",
       "Lime                30     88.3       0.70        0.20      2.8      1.69   \n",
       "Mango               46     88.3       0.91        0.27      1.5      8.39   \n",
       "Peach               60     83.5       0.82        0.38      1.6     13.70   \n",
       "Pineapple           50     86.0       0.54        0.12      1.4      9.85   \n",
       "\n",
       "           vitaminc_mg  \n",
       "Banana             8.7  \n",
       "Lemon             53.0  \n",
       "Lime              29.1  \n",
       "Mango              4.1  \n",
       "Peach             36.4  \n",
       "Pineapple         47.8  "
      ]
     },
     "execution_count": 4,
     "metadata": {},
     "output_type": "execute_result"
    }
   ],
   "source": [
    "# Select only numerical columns and update the index\n",
    "\n",
    "nutrition = fruit_nutrition.set_index('fruit_100g')\n",
    "nutrition.index.name = None\n",
    "nutrition"
   ]
  },
  {
   "cell_type": "markdown",
   "id": "69151b91-39ff-4109-9351-8a0388203ed0",
   "metadata": {},
   "source": [
    "### a. Cosine similarity with 'sugars_g', 'vitaminc_mg'"
   ]
  },
  {
   "cell_type": "code",
   "execution_count": 6,
   "id": "dd6f1abf-8a8f-4b13-bfae-da881a1bdbe7",
   "metadata": {},
   "outputs": [
    {
     "data": {
      "text/html": [
       "<div>\n",
       "<style scoped>\n",
       "    .dataframe tbody tr th:only-of-type {\n",
       "        vertical-align: middle;\n",
       "    }\n",
       "\n",
       "    .dataframe tbody tr th {\n",
       "        vertical-align: top;\n",
       "    }\n",
       "\n",
       "    .dataframe thead th {\n",
       "        text-align: right;\n",
       "    }\n",
       "</style>\n",
       "<table border=\"1\" class=\"dataframe\">\n",
       "  <thead>\n",
       "    <tr style=\"text-align: right;\">\n",
       "      <th></th>\n",
       "      <th>sugars_g</th>\n",
       "      <th>vitaminc_mg</th>\n",
       "    </tr>\n",
       "  </thead>\n",
       "  <tbody>\n",
       "    <tr>\n",
       "      <th>Banana</th>\n",
       "      <td>12.20</td>\n",
       "      <td>8.7</td>\n",
       "    </tr>\n",
       "    <tr>\n",
       "      <th>Lemon</th>\n",
       "      <td>2.50</td>\n",
       "      <td>53.0</td>\n",
       "    </tr>\n",
       "    <tr>\n",
       "      <th>Lime</th>\n",
       "      <td>1.69</td>\n",
       "      <td>29.1</td>\n",
       "    </tr>\n",
       "    <tr>\n",
       "      <th>Mango</th>\n",
       "      <td>8.39</td>\n",
       "      <td>4.1</td>\n",
       "    </tr>\n",
       "    <tr>\n",
       "      <th>Peach</th>\n",
       "      <td>13.70</td>\n",
       "      <td>36.4</td>\n",
       "    </tr>\n",
       "  </tbody>\n",
       "</table>\n",
       "</div>"
      ],
      "text/plain": [
       "        sugars_g  vitaminc_mg\n",
       "Banana     12.20          8.7\n",
       "Lemon       2.50         53.0\n",
       "Lime        1.69         29.1\n",
       "Mango       8.39          4.1\n",
       "Peach      13.70         36.4"
      ]
     },
     "execution_count": 6,
     "metadata": {},
     "output_type": "execute_result"
    }
   ],
   "source": [
    "# select just 2 columns \n",
    "\n",
    "df = nutrition.iloc[: , 5:]\n",
    "df.head()"
   ]
  },
  {
   "cell_type": "code",
   "execution_count": 19,
   "id": "6c65376e-9fcc-4efd-8ddf-c39e79f21eb7",
   "metadata": {},
   "outputs": [
    {
     "data": {
      "text/plain": [
       "Index(['sugars_g', 'vitaminc_mg'], dtype='object')"
      ]
     },
     "execution_count": 19,
     "metadata": {},
     "output_type": "execute_result"
    }
   ],
   "source": [
    "df.columns"
   ]
  },
  {
   "cell_type": "code",
   "execution_count": 10,
   "id": "4abb23a6-bcc1-4d6a-a2b8-8893d34bc021",
   "metadata": {},
   "outputs": [
    {
     "data": {
      "text/plain": [
       "0.9864305980007304"
      ]
     },
     "execution_count": 10,
     "metadata": {},
     "output_type": "execute_result"
    }
   ],
   "source": [
    "# Calculate the cosine similarity between two fruits\n",
    "from sklearn.metrics.pairwise import cosine_similarity\n",
    "\n",
    "cosine_similarity(df.loc[['Mango' , 'Banana']])[0][1]"
   ]
  },
  {
   "cell_type": "code",
   "execution_count": 11,
   "id": "46b2ba7c-fcbb-4bca-88ce-d69b588fd2a8",
   "metadata": {},
   "outputs": [
    {
     "data": {
      "text/plain": [
       "array([[1.        , 0.61832414, 0.62683477, 0.9864306 , 0.83018982,\n",
       "        0.73298243],\n",
       "       [0.61832414, 1.        , 0.99994086, 0.48090193, 0.95146351,\n",
       "        0.98784307],\n",
       "       [0.62683477, 0.99994086, 1.        , 0.49040872, 0.95475426,\n",
       "        0.98947527],\n",
       "       [0.9864306 , 0.48090193, 0.49040872, 1.        , 0.72739811,\n",
       "        0.61135407],\n",
       "       [0.83018982, 0.95146351, 0.95475426, 0.72739811, 1.        ,\n",
       "        0.98773952],\n",
       "       [0.73298243, 0.98784307, 0.98947527, 0.61135407, 0.98773952,\n",
       "        1.        ]])"
      ]
     },
     "execution_count": 11,
     "metadata": {},
     "output_type": "execute_result"
    }
   ],
   "source": [
    "# find all cosine similarities\n",
    "\n",
    "cosine_matrix = cosine_similarity(df)\n",
    "cosine_matrix"
   ]
  },
  {
   "cell_type": "code",
   "execution_count": 12,
   "id": "75a6d6df-fca2-47e9-8a08-e26428a935c4",
   "metadata": {},
   "outputs": [],
   "source": [
    "# show each row of the array on one line\n",
    "import numpy as np\n",
    "\n",
    "# set linewidth to a large value to prevent wrapping\n",
    "np.set_printoptions(linewidth=np.inf)"
   ]
  },
  {
   "cell_type": "code",
   "execution_count": 13,
   "id": "cc9b0693-17cf-4d13-ba1e-85edc4b33032",
   "metadata": {},
   "outputs": [
    {
     "data": {
      "text/plain": [
       "array([[1.        , 0.61832414, 0.62683477, 0.9864306 , 0.83018982, 0.73298243],\n",
       "       [0.61832414, 1.        , 0.99994086, 0.48090193, 0.95146351, 0.98784307],\n",
       "       [0.62683477, 0.99994086, 1.        , 0.49040872, 0.95475426, 0.98947527],\n",
       "       [0.9864306 , 0.48090193, 0.49040872, 1.        , 0.72739811, 0.61135407],\n",
       "       [0.83018982, 0.95146351, 0.95475426, 0.72739811, 1.        , 0.98773952],\n",
       "       [0.73298243, 0.98784307, 0.98947527, 0.61135407, 0.98773952, 1.        ]])"
      ]
     },
     "execution_count": 13,
     "metadata": {},
     "output_type": "execute_result"
    }
   ],
   "source": [
    "# find all cosine similarities\n",
    "\n",
    "cosine_matrix = cosine_similarity(df)\n",
    "cosine_matrix"
   ]
  },
  {
   "cell_type": "code",
   "execution_count": 18,
   "id": "ec47d110-440c-4159-acc5-24bd8a10f4ae",
   "metadata": {},
   "outputs": [
    {
     "data": {
      "text/html": [
       "<div>\n",
       "<style scoped>\n",
       "    .dataframe tbody tr th:only-of-type {\n",
       "        vertical-align: middle;\n",
       "    }\n",
       "\n",
       "    .dataframe tbody tr th {\n",
       "        vertical-align: top;\n",
       "    }\n",
       "\n",
       "    .dataframe thead th {\n",
       "        text-align: right;\n",
       "    }\n",
       "</style>\n",
       "<table border=\"1\" class=\"dataframe\">\n",
       "  <thead>\n",
       "    <tr style=\"text-align: right;\">\n",
       "      <th></th>\n",
       "      <th>Banana</th>\n",
       "      <th>Lemon</th>\n",
       "      <th>Lime</th>\n",
       "      <th>Mango</th>\n",
       "      <th>Peach</th>\n",
       "      <th>Pineapple</th>\n",
       "    </tr>\n",
       "  </thead>\n",
       "  <tbody>\n",
       "    <tr>\n",
       "      <th>Banana</th>\n",
       "      <td>1.000000</td>\n",
       "      <td>0.618324</td>\n",
       "      <td>0.626835</td>\n",
       "      <td>0.986431</td>\n",
       "      <td>0.830190</td>\n",
       "      <td>0.732982</td>\n",
       "    </tr>\n",
       "    <tr>\n",
       "      <th>Lemon</th>\n",
       "      <td>0.618324</td>\n",
       "      <td>1.000000</td>\n",
       "      <td>0.999941</td>\n",
       "      <td>0.480902</td>\n",
       "      <td>0.951464</td>\n",
       "      <td>0.987843</td>\n",
       "    </tr>\n",
       "    <tr>\n",
       "      <th>Lime</th>\n",
       "      <td>0.626835</td>\n",
       "      <td>0.999941</td>\n",
       "      <td>1.000000</td>\n",
       "      <td>0.490409</td>\n",
       "      <td>0.954754</td>\n",
       "      <td>0.989475</td>\n",
       "    </tr>\n",
       "    <tr>\n",
       "      <th>Mango</th>\n",
       "      <td>0.986431</td>\n",
       "      <td>0.480902</td>\n",
       "      <td>0.490409</td>\n",
       "      <td>1.000000</td>\n",
       "      <td>0.727398</td>\n",
       "      <td>0.611354</td>\n",
       "    </tr>\n",
       "    <tr>\n",
       "      <th>Peach</th>\n",
       "      <td>0.830190</td>\n",
       "      <td>0.951464</td>\n",
       "      <td>0.954754</td>\n",
       "      <td>0.727398</td>\n",
       "      <td>1.000000</td>\n",
       "      <td>0.987740</td>\n",
       "    </tr>\n",
       "    <tr>\n",
       "      <th>Pineapple</th>\n",
       "      <td>0.732982</td>\n",
       "      <td>0.987843</td>\n",
       "      <td>0.989475</td>\n",
       "      <td>0.611354</td>\n",
       "      <td>0.987740</td>\n",
       "      <td>1.000000</td>\n",
       "    </tr>\n",
       "  </tbody>\n",
       "</table>\n",
       "</div>"
      ],
      "text/plain": [
       "             Banana     Lemon      Lime     Mango     Peach  Pineapple\n",
       "Banana     1.000000  0.618324  0.626835  0.986431  0.830190   0.732982\n",
       "Lemon      0.618324  1.000000  0.999941  0.480902  0.951464   0.987843\n",
       "Lime       0.626835  0.999941  1.000000  0.490409  0.954754   0.989475\n",
       "Mango      0.986431  0.480902  0.490409  1.000000  0.727398   0.611354\n",
       "Peach      0.830190  0.951464  0.954754  0.727398  1.000000   0.987740\n",
       "Pineapple  0.732982  0.987843  0.989475  0.611354  0.987740   1.000000"
      ]
     },
     "execution_count": 18,
     "metadata": {},
     "output_type": "execute_result"
    }
   ],
   "source": [
    "# turn the array into a dataframe\n",
    "\n",
    "cosine_df = pd.DataFrame(cosine_matrix , index=df.index , columns=df.index)\n",
    "cosine_df"
   ]
  },
  {
   "cell_type": "markdown",
   "id": "f774fcc6-6ce9-4d37-a2a6-3688050dfc7b",
   "metadata": {},
   "source": [
    "### b. cosine similarity with all Nutritional values"
   ]
  },
  {
   "cell_type": "code",
   "execution_count": 20,
   "id": "8dbb276c-5c85-41f8-a9b9-c9eb1b42692d",
   "metadata": {},
   "outputs": [
    {
     "data": {
      "text/html": [
       "<div>\n",
       "<style scoped>\n",
       "    .dataframe tbody tr th:only-of-type {\n",
       "        vertical-align: middle;\n",
       "    }\n",
       "\n",
       "    .dataframe tbody tr th {\n",
       "        vertical-align: top;\n",
       "    }\n",
       "\n",
       "    .dataframe thead th {\n",
       "        text-align: right;\n",
       "    }\n",
       "</style>\n",
       "<table border=\"1\" class=\"dataframe\">\n",
       "  <thead>\n",
       "    <tr style=\"text-align: right;\">\n",
       "      <th></th>\n",
       "      <th>energy_kcal</th>\n",
       "      <th>water_g</th>\n",
       "      <th>protein_g</th>\n",
       "      <th>totalfat_g</th>\n",
       "      <th>fiber_g</th>\n",
       "      <th>sugars_g</th>\n",
       "      <th>vitaminc_mg</th>\n",
       "    </tr>\n",
       "  </thead>\n",
       "  <tbody>\n",
       "    <tr>\n",
       "      <th>Banana</th>\n",
       "      <td>89</td>\n",
       "      <td>74.9</td>\n",
       "      <td>1.09</td>\n",
       "      <td>0.33</td>\n",
       "      <td>2.6</td>\n",
       "      <td>12.20</td>\n",
       "      <td>8.7</td>\n",
       "    </tr>\n",
       "    <tr>\n",
       "      <th>Lemon</th>\n",
       "      <td>29</td>\n",
       "      <td>89.0</td>\n",
       "      <td>1.10</td>\n",
       "      <td>0.30</td>\n",
       "      <td>2.8</td>\n",
       "      <td>2.50</td>\n",
       "      <td>53.0</td>\n",
       "    </tr>\n",
       "    <tr>\n",
       "      <th>Lime</th>\n",
       "      <td>30</td>\n",
       "      <td>88.3</td>\n",
       "      <td>0.70</td>\n",
       "      <td>0.20</td>\n",
       "      <td>2.8</td>\n",
       "      <td>1.69</td>\n",
       "      <td>29.1</td>\n",
       "    </tr>\n",
       "    <tr>\n",
       "      <th>Mango</th>\n",
       "      <td>46</td>\n",
       "      <td>88.3</td>\n",
       "      <td>0.91</td>\n",
       "      <td>0.27</td>\n",
       "      <td>1.5</td>\n",
       "      <td>8.39</td>\n",
       "      <td>4.1</td>\n",
       "    </tr>\n",
       "    <tr>\n",
       "      <th>Peach</th>\n",
       "      <td>60</td>\n",
       "      <td>83.5</td>\n",
       "      <td>0.82</td>\n",
       "      <td>0.38</td>\n",
       "      <td>1.6</td>\n",
       "      <td>13.70</td>\n",
       "      <td>36.4</td>\n",
       "    </tr>\n",
       "    <tr>\n",
       "      <th>Pineapple</th>\n",
       "      <td>50</td>\n",
       "      <td>86.0</td>\n",
       "      <td>0.54</td>\n",
       "      <td>0.12</td>\n",
       "      <td>1.4</td>\n",
       "      <td>9.85</td>\n",
       "      <td>47.8</td>\n",
       "    </tr>\n",
       "  </tbody>\n",
       "</table>\n",
       "</div>"
      ],
      "text/plain": [
       "           energy_kcal  water_g  protein_g  totalfat_g  fiber_g  sugars_g  \\\n",
       "Banana              89     74.9       1.09        0.33      2.6     12.20   \n",
       "Lemon               29     89.0       1.10        0.30      2.8      2.50   \n",
       "Lime                30     88.3       0.70        0.20      2.8      1.69   \n",
       "Mango               46     88.3       0.91        0.27      1.5      8.39   \n",
       "Peach               60     83.5       0.82        0.38      1.6     13.70   \n",
       "Pineapple           50     86.0       0.54        0.12      1.4      9.85   \n",
       "\n",
       "           vitaminc_mg  \n",
       "Banana             8.7  \n",
       "Lemon             53.0  \n",
       "Lime              29.1  \n",
       "Mango              4.1  \n",
       "Peach             36.4  \n",
       "Pineapple         47.8  "
      ]
     },
     "execution_count": 20,
     "metadata": {},
     "output_type": "execute_result"
    }
   ],
   "source": [
    "# view original data\n",
    "nutrition"
   ]
  },
  {
   "cell_type": "code",
   "execution_count": 21,
   "id": "adc31152-4b41-4be2-8237-76dbf542f3c2",
   "metadata": {},
   "outputs": [
    {
     "data": {
      "text/plain": [
       "array([[1.        , 0.77186848, 0.83412488, 0.92474189, 0.93676783, 0.87931265],\n",
       "       [0.77186848, 1.        , 0.97739451, 0.87650678, 0.94133956, 0.9780653 ],\n",
       "       [0.83412488, 0.97739451, 1.        , 0.95282112, 0.95471941, 0.96986632],\n",
       "       [0.92474189, 0.87650678, 0.95282112, 1.        , 0.94580335, 0.91804609],\n",
       "       [0.93676783, 0.94133956, 0.95471941, 0.94580335, 1.        , 0.98972148],\n",
       "       [0.87931265, 0.9780653 , 0.96986632, 0.91804609, 0.98972148, 1.        ]])"
      ]
     },
     "execution_count": 21,
     "metadata": {},
     "output_type": "execute_result"
    }
   ],
   "source": [
    "# cosine similarity with all columns\n",
    "\n",
    "cosine_matrix_all = cosine_similarity(nutrition)\n",
    "cosine_matrix_all"
   ]
  },
  {
   "cell_type": "code",
   "execution_count": 29,
   "id": "2c83ebf5-ace9-49dc-ad37-7b8eb671a4d0",
   "metadata": {},
   "outputs": [
    {
     "data": {
      "text/html": [
       "<div>\n",
       "<style scoped>\n",
       "    .dataframe tbody tr th:only-of-type {\n",
       "        vertical-align: middle;\n",
       "    }\n",
       "\n",
       "    .dataframe tbody tr th {\n",
       "        vertical-align: top;\n",
       "    }\n",
       "\n",
       "    .dataframe thead th {\n",
       "        text-align: right;\n",
       "    }\n",
       "</style>\n",
       "<table border=\"1\" class=\"dataframe\">\n",
       "  <thead>\n",
       "    <tr style=\"text-align: right;\">\n",
       "      <th></th>\n",
       "      <th>Banana</th>\n",
       "      <th>Lemon</th>\n",
       "      <th>Lime</th>\n",
       "      <th>Mango</th>\n",
       "      <th>Peach</th>\n",
       "      <th>Pineapple</th>\n",
       "    </tr>\n",
       "  </thead>\n",
       "  <tbody>\n",
       "    <tr>\n",
       "      <th>Banana</th>\n",
       "      <td>1.000000</td>\n",
       "      <td>0.771868</td>\n",
       "      <td>0.834125</td>\n",
       "      <td>0.924742</td>\n",
       "      <td>0.936768</td>\n",
       "      <td>0.879313</td>\n",
       "    </tr>\n",
       "    <tr>\n",
       "      <th>Lemon</th>\n",
       "      <td>0.771868</td>\n",
       "      <td>1.000000</td>\n",
       "      <td>0.977395</td>\n",
       "      <td>0.876507</td>\n",
       "      <td>0.941340</td>\n",
       "      <td>0.978065</td>\n",
       "    </tr>\n",
       "    <tr>\n",
       "      <th>Lime</th>\n",
       "      <td>0.834125</td>\n",
       "      <td>0.977395</td>\n",
       "      <td>1.000000</td>\n",
       "      <td>0.952821</td>\n",
       "      <td>0.954719</td>\n",
       "      <td>0.969866</td>\n",
       "    </tr>\n",
       "    <tr>\n",
       "      <th>Mango</th>\n",
       "      <td>0.924742</td>\n",
       "      <td>0.876507</td>\n",
       "      <td>0.952821</td>\n",
       "      <td>1.000000</td>\n",
       "      <td>0.945803</td>\n",
       "      <td>0.918046</td>\n",
       "    </tr>\n",
       "    <tr>\n",
       "      <th>Peach</th>\n",
       "      <td>0.936768</td>\n",
       "      <td>0.941340</td>\n",
       "      <td>0.954719</td>\n",
       "      <td>0.945803</td>\n",
       "      <td>1.000000</td>\n",
       "      <td>0.989721</td>\n",
       "    </tr>\n",
       "    <tr>\n",
       "      <th>Pineapple</th>\n",
       "      <td>0.879313</td>\n",
       "      <td>0.978065</td>\n",
       "      <td>0.969866</td>\n",
       "      <td>0.918046</td>\n",
       "      <td>0.989721</td>\n",
       "      <td>1.000000</td>\n",
       "    </tr>\n",
       "  </tbody>\n",
       "</table>\n",
       "</div>"
      ],
      "text/plain": [
       "             Banana     Lemon      Lime     Mango     Peach  Pineapple\n",
       "Banana     1.000000  0.771868  0.834125  0.924742  0.936768   0.879313\n",
       "Lemon      0.771868  1.000000  0.977395  0.876507  0.941340   0.978065\n",
       "Lime       0.834125  0.977395  1.000000  0.952821  0.954719   0.969866\n",
       "Mango      0.924742  0.876507  0.952821  1.000000  0.945803   0.918046\n",
       "Peach      0.936768  0.941340  0.954719  0.945803  1.000000   0.989721\n",
       "Pineapple  0.879313  0.978065  0.969866  0.918046  0.989721   1.000000"
      ]
     },
     "execution_count": 29,
     "metadata": {},
     "output_type": "execute_result"
    }
   ],
   "source": [
    "# convert the similarity matrix into a dataframe\n",
    "\n",
    "cosine_all_df = pd.DataFrame(cosine_matrix_all , index=nutrition.index , columns=nutrition.index)\n",
    "cosine_all_df"
   ]
  },
  {
   "cell_type": "markdown",
   "id": "3f44edf2-ea38-4f5a-9584-938a9769261f",
   "metadata": {},
   "source": [
    "### c. make a content based filtering recommendation"
   ]
  },
  {
   "cell_type": "code",
   "execution_count": 27,
   "id": "6ae80a78-ef25-4169-a62a-006114009f5b",
   "metadata": {},
   "outputs": [
    {
     "data": {
      "text/html": [
       "<div>\n",
       "<style scoped>\n",
       "    .dataframe tbody tr th:only-of-type {\n",
       "        vertical-align: middle;\n",
       "    }\n",
       "\n",
       "    .dataframe tbody tr th {\n",
       "        vertical-align: top;\n",
       "    }\n",
       "\n",
       "    .dataframe thead th {\n",
       "        text-align: right;\n",
       "    }\n",
       "</style>\n",
       "<table border=\"1\" class=\"dataframe\">\n",
       "  <thead>\n",
       "    <tr style=\"text-align: right;\">\n",
       "      <th></th>\n",
       "      <th>Mango</th>\n",
       "    </tr>\n",
       "  </thead>\n",
       "  <tbody>\n",
       "    <tr>\n",
       "      <th>Mango</th>\n",
       "      <td>1.000000</td>\n",
       "    </tr>\n",
       "    <tr>\n",
       "      <th>Banana</th>\n",
       "      <td>0.986431</td>\n",
       "    </tr>\n",
       "    <tr>\n",
       "      <th>Peach</th>\n",
       "      <td>0.727398</td>\n",
       "    </tr>\n",
       "    <tr>\n",
       "      <th>Pineapple</th>\n",
       "      <td>0.611354</td>\n",
       "    </tr>\n",
       "    <tr>\n",
       "      <th>Lime</th>\n",
       "      <td>0.490409</td>\n",
       "    </tr>\n",
       "    <tr>\n",
       "      <th>Lemon</th>\n",
       "      <td>0.480902</td>\n",
       "    </tr>\n",
       "  </tbody>\n",
       "</table>\n",
       "</div>"
      ],
      "text/plain": [
       "              Mango\n",
       "Mango      1.000000\n",
       "Banana     0.986431\n",
       "Peach      0.727398\n",
       "Pineapple  0.611354\n",
       "Lime       0.490409\n",
       "Lemon      0.480902"
      ]
     },
     "execution_count": 27,
     "metadata": {},
     "output_type": "execute_result"
    }
   ],
   "source": [
    "# if i like mangos, what other fruits might i like? -- using sugar and vitamin c only\n",
    "\n",
    "cosine_df[['Mango']].sort_values(by='Mango' , ascending=False)"
   ]
  },
  {
   "cell_type": "code",
   "execution_count": 34,
   "id": "dacec421-64cf-4bd8-87b3-00a25e881bb7",
   "metadata": {},
   "outputs": [
    {
     "data": {
      "text/html": [
       "<div>\n",
       "<style scoped>\n",
       "    .dataframe tbody tr th:only-of-type {\n",
       "        vertical-align: middle;\n",
       "    }\n",
       "\n",
       "    .dataframe tbody tr th {\n",
       "        vertical-align: top;\n",
       "    }\n",
       "\n",
       "    .dataframe thead th {\n",
       "        text-align: right;\n",
       "    }\n",
       "</style>\n",
       "<table border=\"1\" class=\"dataframe\">\n",
       "  <thead>\n",
       "    <tr style=\"text-align: right;\">\n",
       "      <th></th>\n",
       "      <th>Mango</th>\n",
       "    </tr>\n",
       "  </thead>\n",
       "  <tbody>\n",
       "    <tr>\n",
       "      <th>Mango</th>\n",
       "      <td>1.000000</td>\n",
       "    </tr>\n",
       "    <tr>\n",
       "      <th>Lime</th>\n",
       "      <td>0.952821</td>\n",
       "    </tr>\n",
       "    <tr>\n",
       "      <th>Peach</th>\n",
       "      <td>0.945803</td>\n",
       "    </tr>\n",
       "    <tr>\n",
       "      <th>Banana</th>\n",
       "      <td>0.924742</td>\n",
       "    </tr>\n",
       "    <tr>\n",
       "      <th>Pineapple</th>\n",
       "      <td>0.918046</td>\n",
       "    </tr>\n",
       "    <tr>\n",
       "      <th>Lemon</th>\n",
       "      <td>0.876507</td>\n",
       "    </tr>\n",
       "  </tbody>\n",
       "</table>\n",
       "</div>"
      ],
      "text/plain": [
       "              Mango\n",
       "Mango      1.000000\n",
       "Lime       0.952821\n",
       "Peach      0.945803\n",
       "Banana     0.924742\n",
       "Pineapple  0.918046\n",
       "Lemon      0.876507"
      ]
     },
     "execution_count": 34,
     "metadata": {},
     "output_type": "execute_result"
    }
   ],
   "source": [
    "# if i like mangos, what other fruits might i like? -- using all nutritional values\n",
    "\n",
    "cosine_all_df[['Mango']].sort_values(by='Mango' , ascending=False)"
   ]
  },
  {
   "cell_type": "markdown",
   "id": "aff4c931-8677-4c5e-ae17-dbafc3ff3ed8",
   "metadata": {},
   "source": [
    "### d. Function to Make Fruit Recommendations"
   ]
  },
  {
   "cell_type": "code",
   "execution_count": 35,
   "id": "5d6bf455-7b03-448e-9d97-f565be3d1c0a",
   "metadata": {},
   "outputs": [],
   "source": [
    "# write a function to make fruit recommendations\n",
    "def recommend_fruits_based_on_liking(fruit_name, similarity_df):\n",
    "        \n",
    "    # check if the input fruit is in the DataFrame\n",
    "    if fruit_name not in df.index:\n",
    "        return f\"{fruit_name} is not found in the fruit list.\"\n",
    "    \n",
    "    # sort the specified column in descending order\n",
    "    sorted_column = similarity_df[[fruit_name]].sort_values(by=fruit_name, ascending=False)\n",
    "    \n",
    "    # display the result\n",
    "    return sorted_column"
   ]
  },
  {
   "cell_type": "code",
   "execution_count": 36,
   "id": "0e80f652-574c-4cd3-8c15-33d9c16a8ceb",
   "metadata": {},
   "outputs": [
    {
     "data": {
      "text/html": [
       "<div>\n",
       "<style scoped>\n",
       "    .dataframe tbody tr th:only-of-type {\n",
       "        vertical-align: middle;\n",
       "    }\n",
       "\n",
       "    .dataframe tbody tr th {\n",
       "        vertical-align: top;\n",
       "    }\n",
       "\n",
       "    .dataframe thead th {\n",
       "        text-align: right;\n",
       "    }\n",
       "</style>\n",
       "<table border=\"1\" class=\"dataframe\">\n",
       "  <thead>\n",
       "    <tr style=\"text-align: right;\">\n",
       "      <th></th>\n",
       "      <th>Mango</th>\n",
       "    </tr>\n",
       "  </thead>\n",
       "  <tbody>\n",
       "    <tr>\n",
       "      <th>Mango</th>\n",
       "      <td>1.000000</td>\n",
       "    </tr>\n",
       "    <tr>\n",
       "      <th>Banana</th>\n",
       "      <td>0.986431</td>\n",
       "    </tr>\n",
       "    <tr>\n",
       "      <th>Peach</th>\n",
       "      <td>0.727398</td>\n",
       "    </tr>\n",
       "    <tr>\n",
       "      <th>Pineapple</th>\n",
       "      <td>0.611354</td>\n",
       "    </tr>\n",
       "    <tr>\n",
       "      <th>Lime</th>\n",
       "      <td>0.490409</td>\n",
       "    </tr>\n",
       "    <tr>\n",
       "      <th>Lemon</th>\n",
       "      <td>0.480902</td>\n",
       "    </tr>\n",
       "  </tbody>\n",
       "</table>\n",
       "</div>"
      ],
      "text/plain": [
       "              Mango\n",
       "Mango      1.000000\n",
       "Banana     0.986431\n",
       "Peach      0.727398\n",
       "Pineapple  0.611354\n",
       "Lime       0.490409\n",
       "Lemon      0.480902"
      ]
     },
     "execution_count": 36,
     "metadata": {},
     "output_type": "execute_result"
    }
   ],
   "source": [
    "# example usage with mangos + sugar and vitamin c\n",
    "\n",
    "recommend_fruits_based_on_liking('Mango' , cosine_df)"
   ]
  },
  {
   "cell_type": "code",
   "execution_count": 37,
   "id": "572b0ee9-cb81-4144-87d8-b99171794b66",
   "metadata": {},
   "outputs": [
    {
     "data": {
      "text/html": [
       "<div>\n",
       "<style scoped>\n",
       "    .dataframe tbody tr th:only-of-type {\n",
       "        vertical-align: middle;\n",
       "    }\n",
       "\n",
       "    .dataframe tbody tr th {\n",
       "        vertical-align: top;\n",
       "    }\n",
       "\n",
       "    .dataframe thead th {\n",
       "        text-align: right;\n",
       "    }\n",
       "</style>\n",
       "<table border=\"1\" class=\"dataframe\">\n",
       "  <thead>\n",
       "    <tr style=\"text-align: right;\">\n",
       "      <th></th>\n",
       "      <th>Mango</th>\n",
       "    </tr>\n",
       "  </thead>\n",
       "  <tbody>\n",
       "    <tr>\n",
       "      <th>Mango</th>\n",
       "      <td>1.000000</td>\n",
       "    </tr>\n",
       "    <tr>\n",
       "      <th>Lime</th>\n",
       "      <td>0.952821</td>\n",
       "    </tr>\n",
       "    <tr>\n",
       "      <th>Peach</th>\n",
       "      <td>0.945803</td>\n",
       "    </tr>\n",
       "    <tr>\n",
       "      <th>Banana</th>\n",
       "      <td>0.924742</td>\n",
       "    </tr>\n",
       "    <tr>\n",
       "      <th>Pineapple</th>\n",
       "      <td>0.918046</td>\n",
       "    </tr>\n",
       "    <tr>\n",
       "      <th>Lemon</th>\n",
       "      <td>0.876507</td>\n",
       "    </tr>\n",
       "  </tbody>\n",
       "</table>\n",
       "</div>"
      ],
      "text/plain": [
       "              Mango\n",
       "Mango      1.000000\n",
       "Lime       0.952821\n",
       "Peach      0.945803\n",
       "Banana     0.924742\n",
       "Pineapple  0.918046\n",
       "Lemon      0.876507"
      ]
     },
     "execution_count": 37,
     "metadata": {},
     "output_type": "execute_result"
    }
   ],
   "source": [
    "# example usage with mangos + all nutritional values\n",
    "\n",
    "recommend_fruits_based_on_liking('Mango' , cosine_all_df)"
   ]
  },
  {
   "cell_type": "code",
   "execution_count": 38,
   "id": "37c97de8-8810-47e2-b187-64f1ba6512de",
   "metadata": {},
   "outputs": [
    {
     "data": {
      "text/plain": [
       "'kiwi is not found in the fruit list.'"
      ]
     },
     "execution_count": 38,
     "metadata": {},
     "output_type": "execute_result"
    }
   ],
   "source": [
    "# error example \n",
    "\n",
    "recommend_fruits_based_on_liking('kiwi' , cosine_all_df)"
   ]
  },
  {
   "cell_type": "code",
   "execution_count": null,
   "id": "1f18d7ca-572b-47e0-9ea1-1f92a3f71658",
   "metadata": {},
   "outputs": [],
   "source": []
  },
  {
   "cell_type": "code",
   "execution_count": null,
   "id": "0f516378-06d0-480b-9521-9f7c9b98bd06",
   "metadata": {},
   "outputs": [],
   "source": []
  },
  {
   "cell_type": "code",
   "execution_count": null,
   "id": "ba27241e-0815-49f9-a696-239ebac886a4",
   "metadata": {},
   "outputs": [],
   "source": []
  },
  {
   "cell_type": "code",
   "execution_count": null,
   "id": "c833b176-e814-4d1a-b102-7264e03d8870",
   "metadata": {},
   "outputs": [],
   "source": []
  },
  {
   "cell_type": "code",
   "execution_count": null,
   "id": "25fc7f4e-a79d-461c-8af4-32bd8ccc0dc4",
   "metadata": {},
   "outputs": [],
   "source": []
  },
  {
   "cell_type": "code",
   "execution_count": null,
   "id": "f168f45d-fea1-48a1-9b59-6e53a6d8512c",
   "metadata": {},
   "outputs": [],
   "source": []
  },
  {
   "cell_type": "code",
   "execution_count": null,
   "id": "8a8699f1-6869-4722-befb-5ba1dcca667b",
   "metadata": {},
   "outputs": [],
   "source": []
  },
  {
   "cell_type": "code",
   "execution_count": null,
   "id": "1420f22e-b2c8-4469-9d38-632473488f16",
   "metadata": {},
   "outputs": [],
   "source": []
  },
  {
   "cell_type": "code",
   "execution_count": null,
   "id": "2991243d-f7fc-4d69-83dd-81a8df310a93",
   "metadata": {},
   "outputs": [],
   "source": []
  }
 ],
 "metadata": {
  "kernelspec": {
   "display_name": "Python 3 (ipykernel)",
   "language": "python",
   "name": "python3"
  },
  "language_info": {
   "codemirror_mode": {
    "name": "ipython",
    "version": 3
   },
   "file_extension": ".py",
   "mimetype": "text/x-python",
   "name": "python",
   "nbconvert_exporter": "python",
   "pygments_lexer": "ipython3",
   "version": "3.12.4"
  }
 },
 "nbformat": 4,
 "nbformat_minor": 5
}
